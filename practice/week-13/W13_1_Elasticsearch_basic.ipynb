{
 "cells": [
  {
   "cell_type": "markdown",
   "metadata": {},
   "source": [
    "# BIG DATA ANALYTICS PROGRAMMING : Elasticsearch\n",
    "엘라스틱서치의 기본 원리와 사용법에 대해서 배웁니다.\n",
    "____"
   ]
  },
  {
   "cell_type": "markdown",
   "metadata": {},
   "source": [
    "## 1. Elasticsearch의 Python 라이브러리 설치"
   ]
  },
  {
   "cell_type": "code",
   "execution_count": 92,
   "metadata": {},
   "outputs": [
    {
     "name": "stdout",
     "output_type": "stream",
     "text": [
      "Collecting elasticsearch\n",
      "  Downloading elasticsearch-7.10.1-py2.py3-none-any.whl (322 kB)\n",
      "\u001b[K     |████████████████████████████████| 322 kB 91 kB/s eta 0:00:011\n",
      "\u001b[?25hRequirement already satisfied: urllib3<2,>=1.21.1 in /Users/jungwons/opt/anaconda3/lib/python3.8/site-packages (from elasticsearch) (1.22)\n",
      "Requirement already satisfied: certifi in /Users/jungwons/opt/anaconda3/lib/python3.8/site-packages (from elasticsearch) (2020.6.20)\n",
      "Installing collected packages: elasticsearch\n",
      "Successfully installed elasticsearch-7.10.1\n"
     ]
    }
   ],
   "source": [
    "import sys\n",
    "!{sys.executable} -m pip install elasticsearch\n"
   ]
  },
  {
   "cell_type": "code",
   "execution_count": 93,
   "metadata": {},
   "outputs": [],
   "source": [
    "from elasticsearch import Elasticsearch"
   ]
  },
  {
   "cell_type": "markdown",
   "metadata": {},
   "source": [
    "## 2. Index 세팅\n",
    "- 한글 데이터를 다루기 때문에, 은전한닢(Mecab) 형태소 분석기를 탑재합니다."
   ]
  },
  {
   "cell_type": "code",
   "execution_count": 120,
   "metadata": {},
   "outputs": [],
   "source": [
    "import pprint  \n",
    "INDEX_NAME = \"toy_index\"\n",
    "\n",
    "INDEX_SETTINGS = {\n",
    "  \"settings\" : {\n",
    "    \"index\":{\n",
    "      \"analysis\":{\n",
    "        \"analyzer\":{\n",
    "          \"korean\":{\n",
    "            \"type\":\"custom\",\n",
    "            \"tokenizer\":\"nori_tokenizer\"\n",
    "          }\n",
    "        }\n",
    "      }\n",
    "    }\n",
    "  },\n",
    "  \"mappings\": {\n",
    "\n",
    "      \"properties\" : {\n",
    "        \"content\" : {\n",
    "          \"type\" : \"text\",\n",
    "          \"analyzer\": \"korean\"\n",
    "        },\n",
    "        \"title\" : {\n",
    "          \"type\" : \"text\",\n",
    "          \"analyzer\": \"korean\"\n",
    "        }\n",
    "      }\n",
    "\n",
    "  }\n",
    "}\n"
   ]
  },
  {
   "cell_type": "markdown",
   "metadata": {},
   "source": [
    "## 3. 문서 준비"
   ]
  },
  {
   "cell_type": "code",
   "execution_count": 121,
   "metadata": {},
   "outputs": [],
   "source": [
    "DOCS = {\n",
    "    1: {\"title\": \"My Love\",\n",
    "        \"content\": \"사랑해 그 말은 무엇보다 아픈 말 숨죽여서 하는 말 이젠 하기 힘든 말\"\n",
    "        },\n",
    "    2: {\"title\": \"듣고있나요\",\n",
    "        \"content\": \"끝내 우린 스쳐가나요 기억넘어 서로를 지워야하나요 내게 사랑이 준 깊은 상처는 어떻게 견디며 살아야하는지 매일 아픈 그리움속에 가슴 텅 빈채 살아도 그대를 사랑했던일 그것만은 죽어도 나 후회하지않아요\"\n",
    "        },\n",
    "    3: {\"title\": \"인연\",\n",
    "        \"content\": \"눈을 떠 바라보아요 그댄 정말 가셨나요 단 한번 보내준 그대 눈빛은 날 사랑했나요 또 다른 사랑이 와도 이젠 쉽게 허락되진 않아 견디기 힘들어 운명같은 우연을\"\n",
    "        },\n",
    "    4: {\"title\": \"말리 꽃\",\n",
    "        \"content\": [\"얼마나 더 견뎌야 하는지 짙은 어둠을 헤메고 있어\",\"내가 바란 꿈이라는 것은 없는걸까\", \"더 이상은 견딜수 없는 것\"]\n",
    "        },\n",
    "    5: {\"title\": \"그런 사람 또 없습니다\",\n",
    "        \"content\": \"천번 번이고 다시 태어난대도 그런 사람 또 없을테죠 슬픈 내삶을 따뜻하게 해준 잠 고마운 사람입니다\"\n",
    "        }\n",
    "}  "
   ]
  },
  {
   "cell_type": "markdown",
   "metadata": {},
   "source": [
    "## 4. Elastichsearch 접속"
   ]
  },
  {
   "cell_type": "code",
   "execution_count": 126,
   "metadata": {},
   "outputs": [],
   "source": [
    "\n",
    "host = \"\"\n",
    "\n",
    "try:\n",
    "    es.transport.close()\n",
    "except:\n",
    "    pass\n",
    "es = Elasticsearch([host],port=9201)\n",
    "\n"
   ]
  },
  {
   "cell_type": "code",
   "execution_count": 127,
   "metadata": {},
   "outputs": [
    {
     "data": {
      "text/plain": [
       "{'name': 'ip-172-31-56-99',\n",
       " 'cluster_name': 'elasticsearch',\n",
       " 'cluster_uuid': 'q_4n_mp8S1aPUO1Dfc3Cxw',\n",
       " 'version': {'number': '7.10.1',\n",
       "  'build_flavor': 'default',\n",
       "  'build_type': 'deb',\n",
       "  'build_hash': '1c34507e66d7db1211f66f3513706fdf548736aa',\n",
       "  'build_date': '2020-12-05T01:00:33.671820Z',\n",
       "  'build_snapshot': False,\n",
       "  'lucene_version': '8.7.0',\n",
       "  'minimum_wire_compatibility_version': '6.8.0',\n",
       "  'minimum_index_compatibility_version': '6.0.0-beta1'},\n",
       " 'tagline': 'You Know, for Search'}"
      ]
     },
     "execution_count": 127,
     "metadata": {},
     "output_type": "execute_result"
    }
   ],
   "source": [
    "es.info()"
   ]
  },
  {
   "cell_type": "markdown",
   "metadata": {},
   "source": [
    "## 5. 인덱스 생성"
   ]
  },
  {
   "cell_type": "code",
   "execution_count": 128,
   "metadata": {
    "scrolled": true
   },
   "outputs": [
    {
     "data": {
      "text/plain": [
       "{'acknowledged': True, 'shards_acknowledged': True, 'index': 'toy_index'}"
      ]
     },
     "execution_count": 128,
     "metadata": {},
     "output_type": "execute_result"
    }
   ],
   "source": [
    "if es.indices.exists(INDEX_NAME):\n",
    "    es.indices.delete(index=INDEX_NAME)\n",
    "es.indices.create(index=INDEX_NAME, body=INDEX_SETTINGS)"
   ]
  },
  {
   "cell_type": "markdown",
   "metadata": {},
   "source": [
    "## 6. 문서삽입"
   ]
  },
  {
   "cell_type": "code",
   "execution_count": 129,
   "metadata": {},
   "outputs": [],
   "source": [
    "import time\n",
    "for doc_id, doc in DOCS.items():\n",
    "    es.index(index=INDEX_NAME,  id=doc_id, body=doc)\n",
    "    time.sleep(1)\n"
   ]
  },
  {
   "cell_type": "markdown",
   "metadata": {},
   "source": [
    "## 7. 삽입된 문서 확인"
   ]
  },
  {
   "cell_type": "code",
   "execution_count": 130,
   "metadata": {},
   "outputs": [
    {
     "name": "stdout",
     "output_type": "stream",
     "text": [
      "{'_id': '1',\n",
      " '_index': 'toy_index',\n",
      " '_primary_term': 1,\n",
      " '_seq_no': 0,\n",
      " '_source': {'content': '사랑해 그 말은 무엇보다 아픈 말 숨죽여서 하는 말 이젠 하기 힘든 말',\n",
      "             'title': 'My Love'},\n",
      " '_type': '_doc',\n",
      " '_version': 1,\n",
      " 'found': True}\n"
     ]
    }
   ],
   "source": [
    "doc = es.get(index=INDEX_NAME, id=1)\n",
    "pprint.pprint(doc)"
   ]
  },
  {
   "cell_type": "markdown",
   "metadata": {},
   "source": [
    "## 8. Term vector 확인"
   ]
  },
  {
   "cell_type": "code",
   "execution_count": 131,
   "metadata": {},
   "outputs": [],
   "source": [
    "tv = es.termvectors(index=INDEX_NAME, id=2,body={\"fields\" : [\"content\",\"title\"]})"
   ]
  },
  {
   "cell_type": "code",
   "execution_count": 132,
   "metadata": {
    "scrolled": false
   },
   "outputs": [
    {
     "name": "stdout",
     "output_type": "stream",
     "text": [
      "{'_id': '2',\n",
      " '_index': 'toy_index',\n",
      " '_type': '_doc',\n",
      " '_version': 1,\n",
      " 'found': True,\n",
      " 'term_vectors': {'content': {'field_statistics': {'doc_count': 5,\n",
      "                                                   'sum_doc_freq': 169,\n",
      "                                                   'sum_ttf': 216},\n",
      "                              'terms': {'ᆫ': {'term_freq': 3,\n",
      "                                              'tokens': [{'end_offset': 36,\n",
      "                                                          'position': 21,\n",
      "                                                          'start_offset': 35},\n",
      "                                                         {'end_offset': 64,\n",
      "                                                          'position': 35,\n",
      "                                                          'start_offset': 62},\n",
      "                                                         {'end_offset': 77,\n",
      "                                                          'position': 42,\n",
      "                                                          'start_offset': 76}]},\n",
      "                                        'ㄴ': {'term_freq': 1,\n",
      "                                              'tokens': [{'end_offset': 5,\n",
      "                                                          'position': 2,\n",
      "                                                          'start_offset': 3}]},\n",
      "                                        '가': {'term_freq': 1,\n",
      "                                              'tokens': [{'end_offset': 9,\n",
      "                                                          'position': 5,\n",
      "                                                          'start_offset': 8}]},\n",
      "                                        '가슴': {'term_freq': 1,\n",
      "                                               'tokens': [{'end_offset': 73,\n",
      "                                                           'position': 39,\n",
      "                                                           'start_offset': 71}]},\n",
      "                                        '견디': {'term_freq': 1,\n",
      "                                               'tokens': [{'end_offset': 50,\n",
      "                                                           'position': 27,\n",
      "                                                           'start_offset': 48}]},\n",
      "                                        '그것': {'term_freq': 1,\n",
      "                                               'tokens': [{'end_offset': 95,\n",
      "                                                           'position': 53,\n",
      "                                                           'start_offset': 93}]},\n",
      "                                        '그대': {'term_freq': 1,\n",
      "                                               'tokens': [{'end_offset': 85,\n",
      "                                                           'position': 46,\n",
      "                                                           'start_offset': 83}]},\n",
      "                                        '그리움': {'term_freq': 1,\n",
      "                                                'tokens': [{'end_offset': 68,\n",
      "                                                            'position': 36,\n",
      "                                                            'start_offset': 65}]},\n",
      "                                        '기억': {'term_freq': 1,\n",
      "                                               'tokens': [{'end_offset': 14,\n",
      "                                                           'position': 7,\n",
      "                                                           'start_offset': 12}]},\n",
      "                                        '깊': {'term_freq': 1,\n",
      "                                              'tokens': [{'end_offset': 38,\n",
      "                                                          'position': 22,\n",
      "                                                          'start_offset': 37}]},\n",
      "                                        '끝내어': {'term_freq': 1,\n",
      "                                                'tokens': [{'end_offset': 2,\n",
      "                                                            'position': 0,\n",
      "                                                            'start_offset': 0}]},\n",
      "                                        '나': {'term_freq': 2,\n",
      "                                              'tokens': [{'end_offset': 30,\n",
      "                                                          'position': 16,\n",
      "                                                          'start_offset': 28},\n",
      "                                                         {'end_offset': 103,\n",
      "                                                          'position': 58,\n",
      "                                                          'start_offset': 102}]},\n",
      "                                        '나요': {'term_freq': 2,\n",
      "                                               'tokens': [{'end_offset': 11,\n",
      "                                                           'position': 6,\n",
      "                                                           'start_offset': 9},\n",
      "                                                          {'end_offset': 27,\n",
      "                                                           'position': 15,\n",
      "                                                           'start_offset': 25}]},\n",
      "                                        '넘': {'term_freq': 1,\n",
      "                                              'tokens': [{'end_offset': 15,\n",
      "                                                          'position': 8,\n",
      "                                                          'start_offset': 14}]},\n",
      "                                        '는': {'term_freq': 1,\n",
      "                                              'tokens': [{'end_offset': 43,\n",
      "                                                          'position': 25,\n",
      "                                                          'start_offset': 42}]},\n",
      "                                        '는지': {'term_freq': 1,\n",
      "                                               'tokens': [{'end_offset': 58,\n",
      "                                                           'position': 32,\n",
      "                                                           'start_offset': 56}]},\n",
      "                                        '던': {'term_freq': 1,\n",
      "                                              'tokens': [{'end_offset': 91,\n",
      "                                                          'position': 51,\n",
      "                                                          'start_offset': 90}]},\n",
      "                                        '를': {'term_freq': 2,\n",
      "                                              'tokens': [{'end_offset': 20,\n",
      "                                                          'position': 11,\n",
      "                                                          'start_offset': 19},\n",
      "                                                         {'end_offset': 86,\n",
      "                                                          'position': 47,\n",
      "                                                          'start_offset': 85}]},\n",
      "                                        '만': {'term_freq': 1,\n",
      "                                              'tokens': [{'end_offset': 96,\n",
      "                                                          'position': 54,\n",
      "                                                          'start_offset': 95}]},\n",
      "                                        '매일': {'term_freq': 1,\n",
      "                                               'tokens': [{'end_offset': 61,\n",
      "                                                           'position': 33,\n",
      "                                                           'start_offset': 59}]},\n",
      "                                        '며': {'term_freq': 1,\n",
      "                                              'tokens': [{'end_offset': 51,\n",
      "                                                          'position': 28,\n",
      "                                                          'start_offset': 50}]},\n",
      "                                        '비': {'term_freq': 1,\n",
      "                                              'tokens': [{'end_offset': 77,\n",
      "                                                          'position': 41,\n",
      "                                                          'start_offset': 76}]},\n",
      "                                        '사랑': {'term_freq': 2,\n",
      "                                               'tokens': [{'end_offset': 33,\n",
      "                                                           'position': 18,\n",
      "                                                           'start_offset': 31},\n",
      "                                                          {'end_offset': 89,\n",
      "                                                           'position': 48,\n",
      "                                                           'start_offset': 87}]},\n",
      "                                        '살': {'term_freq': 2,\n",
      "                                              'tokens': [{'end_offset': 53,\n",
      "                                                          'position': 29,\n",
      "                                                          'start_offset': 52},\n",
      "                                                         {'end_offset': 80,\n",
      "                                                          'position': 44,\n",
      "                                                          'start_offset': 79}]},\n",
      "                                        '상처': {'term_freq': 1,\n",
      "                                               'tokens': [{'end_offset': 42,\n",
      "                                                           'position': 24,\n",
      "                                                           'start_offset': 40}]},\n",
      "                                        '서로': {'term_freq': 1,\n",
      "                                               'tokens': [{'end_offset': 19,\n",
      "                                                           'position': 10,\n",
      "                                                           'start_offset': 17}]},\n",
      "                                        '속': {'term_freq': 1,\n",
      "                                              'tokens': [{'end_offset': 69,\n",
      "                                                          'position': 37,\n",
      "                                                          'start_offset': 68}]},\n",
      "                                        '스치': {'term_freq': 1,\n",
      "                                               'tokens': [{'end_offset': 8,\n",
      "                                                           'position': 3,\n",
      "                                                           'start_offset': 6}]},\n",
      "                                        '아도': {'term_freq': 1,\n",
      "                                               'tokens': [{'end_offset': 82,\n",
      "                                                           'position': 45,\n",
      "                                                           'start_offset': 80}]},\n",
      "                                        '아야': {'term_freq': 1,\n",
      "                                               'tokens': [{'end_offset': 55,\n",
      "                                                           'position': 30,\n",
      "                                                           'start_offset': 53}]},\n",
      "                                        '아요': {'term_freq': 1,\n",
      "                                               'tokens': [{'end_offset': 111,\n",
      "                                                           'position': 63,\n",
      "                                                           'start_offset': 109}]},\n",
      "                                        '아프': {'term_freq': 1,\n",
      "                                               'tokens': [{'end_offset': 64,\n",
      "                                                           'position': 34,\n",
      "                                                           'start_offset': 62}]},\n",
      "                                        '않': {'term_freq': 2,\n",
      "                                              'tokens': [{'end_offset': 25,\n",
      "                                                          'position': 14,\n",
      "                                                          'start_offset': 24},\n",
      "                                                         {'end_offset': 109,\n",
      "                                                          'position': 62,\n",
      "                                                          'start_offset': 108}]},\n",
      "                                        '았': {'term_freq': 1,\n",
      "                                              'tokens': [{'end_offset': 90,\n",
      "                                                          'position': 50,\n",
      "                                                          'start_offset': 89}]},\n",
      "                                        '어': {'term_freq': 2,\n",
      "                                              'tokens': [{'end_offset': 8,\n",
      "                                                          'position': 4,\n",
      "                                                          'start_offset': 6},\n",
      "                                                         {'end_offset': 16,\n",
      "                                                          'position': 9,\n",
      "                                                          'start_offset': 15}]},\n",
      "                                        '어도': {'term_freq': 1,\n",
      "                                               'tokens': [{'end_offset': 101,\n",
      "                                                           'position': 57,\n",
      "                                                           'start_offset': 99}]},\n",
      "                                        '어떻게': {'term_freq': 1,\n",
      "                                                'tokens': [{'end_offset': 47,\n",
      "                                                            'position': 26,\n",
      "                                                            'start_offset': 44}]},\n",
      "                                        '어야': {'term_freq': 1,\n",
      "                                               'tokens': [{'end_offset': 24,\n",
      "                                                           'position': 13,\n",
      "                                                           'start_offset': 21}]},\n",
      "                                        '에': {'term_freq': 1,\n",
      "                                              'tokens': [{'end_offset': 70,\n",
      "                                                          'position': 38,\n",
      "                                                          'start_offset': 69}]},\n",
      "                                        '에게': {'term_freq': 1,\n",
      "                                               'tokens': [{'end_offset': 30,\n",
      "                                                           'position': 17,\n",
      "                                                           'start_offset': 28}]},\n",
      "                                        '우리': {'term_freq': 1,\n",
      "                                               'tokens': [{'end_offset': 5,\n",
      "                                                           'position': 1,\n",
      "                                                           'start_offset': 3}]},\n",
      "                                        '은': {'term_freq': 2,\n",
      "                                              'tokens': [{'end_offset': 39,\n",
      "                                                          'position': 23,\n",
      "                                                          'start_offset': 38},\n",
      "                                                         {'end_offset': 97,\n",
      "                                                          'position': 55,\n",
      "                                                          'start_offset': 96}]},\n",
      "                                        '이': {'term_freq': 1,\n",
      "                                              'tokens': [{'end_offset': 34,\n",
      "                                                          'position': 19,\n",
      "                                                          'start_offset': 33}]},\n",
      "                                        '일': {'term_freq': 1,\n",
      "                                              'tokens': [{'end_offset': 92,\n",
      "                                                          'position': 52,\n",
      "                                                          'start_offset': 91}]},\n",
      "                                        '주': {'term_freq': 1,\n",
      "                                              'tokens': [{'end_offset': 36,\n",
      "                                                          'position': 20,\n",
      "                                                          'start_offset': 35}]},\n",
      "                                        '죽': {'term_freq': 1,\n",
      "                                              'tokens': [{'end_offset': 99,\n",
      "                                                          'position': 56,\n",
      "                                                          'start_offset': 98}]},\n",
      "                                        '지': {'term_freq': 1,\n",
      "                                              'tokens': [{'end_offset': 108,\n",
      "                                                          'position': 61,\n",
      "                                                          'start_offset': 107}]},\n",
      "                                        '지우': {'term_freq': 1,\n",
      "                                               'tokens': [{'end_offset': 24,\n",
      "                                                           'position': 12,\n",
      "                                                           'start_offset': 21}]},\n",
      "                                        '채': {'term_freq': 1,\n",
      "                                              'tokens': [{'end_offset': 78,\n",
      "                                                          'position': 43,\n",
      "                                                          'start_offset': 77}]},\n",
      "                                        '텅': {'term_freq': 1,\n",
      "                                              'tokens': [{'end_offset': 75,\n",
      "                                                          'position': 40,\n",
      "                                                          'start_offset': 74}]},\n",
      "                                        '하': {'term_freq': 3,\n",
      "                                              'tokens': [{'end_offset': 56,\n",
      "                                                          'position': 31,\n",
      "                                                          'start_offset': 55},\n",
      "                                                         {'end_offset': 90,\n",
      "                                                          'position': 49,\n",
      "                                                          'start_offset': 89},\n",
      "                                                         {'end_offset': 107,\n",
      "                                                          'position': 60,\n",
      "                                                          'start_offset': 106}]},\n",
      "                                        '후회': {'term_freq': 1,\n",
      "                                               'tokens': [{'end_offset': 106,\n",
      "                                                           'position': 59,\n",
      "                                                           'start_offset': 104}]}}},\n",
      "                  'title': {'field_statistics': {'doc_count': 5,\n",
      "                                                 'sum_doc_freq': 14,\n",
      "                                                 'sum_ttf': 14},\n",
      "                            'terms': {'고': {'term_freq': 1,\n",
      "                                            'tokens': [{'end_offset': 2,\n",
      "                                                        'position': 1,\n",
      "                                                        'start_offset': 1}]},\n",
      "                                      '나요': {'term_freq': 1,\n",
      "                                             'tokens': [{'end_offset': 5,\n",
      "                                                         'position': 3,\n",
      "                                                         'start_offset': 3}]},\n",
      "                                      '들': {'term_freq': 1,\n",
      "                                            'tokens': [{'end_offset': 1,\n",
      "                                                        'position': 0,\n",
      "                                                        'start_offset': 0}]},\n",
      "                                      '있': {'term_freq': 1,\n",
      "                                            'tokens': [{'end_offset': 3,\n",
      "                                                        'position': 2,\n",
      "                                                        'start_offset': 2}]}}}},\n",
      " 'took': 11}\n"
     ]
    }
   ],
   "source": [
    "pprint.pprint(tv)"
   ]
  },
  {
   "cell_type": "markdown",
   "metadata": {},
   "source": [
    "## 7. 검색"
   ]
  },
  {
   "cell_type": "code",
   "execution_count": 134,
   "metadata": {},
   "outputs": [
    {
     "name": "stdout",
     "output_type": "stream",
     "text": [
      "{'tokens': [{'end_offset': 2,\n",
      "             'position': 0,\n",
      "             'start_offset': 0,\n",
      "             'token': '사랑',\n",
      "             'type': 'word'},\n",
      "            {'end_offset': 3,\n",
      "             'position': 1,\n",
      "             'start_offset': 2,\n",
      "             'token': '하',\n",
      "             'type': 'word'},\n",
      "            {'end_offset': 5,\n",
      "             'position': 2,\n",
      "             'start_offset': 3,\n",
      "             'token': '지만',\n",
      "             'type': 'word'},\n",
      "            {'end_offset': 8,\n",
      "             'position': 3,\n",
      "             'start_offset': 6,\n",
      "             'token': '힘들',\n",
      "             'type': 'word'},\n",
      "            {'end_offset': 9,\n",
      "             'position': 4,\n",
      "             'start_offset': 8,\n",
      "             'token': '어',\n",
      "             'type': 'word'},\n",
      "            {'end_offset': 11,\n",
      "             'position': 5,\n",
      "             'start_offset': 10,\n",
      "             'token': '죽',\n",
      "             'type': 'word'},\n",
      "            {'end_offset': 12,\n",
      "             'position': 6,\n",
      "             'start_offset': 11,\n",
      "             'token': '겠',\n",
      "             'type': 'word'},\n",
      "            {'end_offset': 13,\n",
      "             'position': 7,\n",
      "             'start_offset': 12,\n",
      "             'token': '네',\n",
      "             'type': 'word'}]}\n"
     ]
    }
   ],
   "source": [
    "query = \"사랑하지만 힘들어 죽겠네\"\n",
    "res = es.indices.analyze(index=INDEX_NAME,\n",
    "                                 body={\n",
    "                                       \"tokenizer\" : \"nori_tokenizer\",\n",
    "                                        \"text\" : query\n",
    "                                 }\n",
    "                        )\n",
    "pprint.pprint(res)"
   ]
  },
  {
   "cell_type": "code",
   "execution_count": 135,
   "metadata": {},
   "outputs": [
    {
     "name": "stdout",
     "output_type": "stream",
     "text": [
      "{'_shards': {'failed': 0, 'skipped': 0, 'successful': 1, 'total': 1},\n",
      " 'hits': {'hits': [{'_id': '2',\n",
      "                    '_index': 'toy_index',\n",
      "                    '_score': 2.5875735,\n",
      "                    '_source': {'content': '끝내 우린 스쳐가나요 기억넘어 서로를 지워야하나요 내게 사랑이 '\n",
      "                                           '준 깊은 상처는 어떻게 견디며 살아야하는지 매일 아픈 '\n",
      "                                           '그리움속에 가슴 텅 빈채 살아도 그대를 사랑했던일 그것만은 '\n",
      "                                           '죽어도 나 후회하지않아요',\n",
      "                                'title': '듣고있나요'},\n",
      "                    '_type': '_doc'},\n",
      "                   {'_id': '3',\n",
      "                    '_index': 'toy_index',\n",
      "                    '_score': 2.3695383,\n",
      "                    '_source': {'content': '눈을 떠 바라보아요 그댄 정말 가셨나요 단 한번 보내준 그대 '\n",
      "                                           '눈빛은 날 사랑했나요 또 다른 사랑이 와도 이젠 쉽게 허락되진 '\n",
      "                                           '않아 견디기 힘들어 운명같은 우연을',\n",
      "                                'title': '인연'},\n",
      "                    '_type': '_doc'},\n",
      "                   {'_id': '1',\n",
      "                    '_index': 'toy_index',\n",
      "                    '_score': 1.879916,\n",
      "                    '_source': {'content': '사랑해 그 말은 무엇보다 아픈 말 숨죽여서 하는 말 이젠 하기 '\n",
      "                                           '힘든 말',\n",
      "                                'title': 'My Love'},\n",
      "                    '_type': '_doc'},\n",
      "                   {'_id': '4',\n",
      "                    '_index': 'toy_index',\n",
      "                    '_score': 0.6650547,\n",
      "                    '_source': {'content': ['얼마나 더 견뎌야 하는지 짙은 어둠을 헤메고 있어',\n",
      "                                            '내가 바란 꿈이라는 것은 없는걸까',\n",
      "                                            '더 이상은 견딜수 없는 것'],\n",
      "                                'title': '말리 꽃'},\n",
      "                    '_type': '_doc'},\n",
      "                   {'_id': '5',\n",
      "                    '_index': 'toy_index',\n",
      "                    '_score': 0.12467302,\n",
      "                    '_source': {'content': '천번 번이고 다시 태어난대도 그런 사람 또 없을테죠 슬픈 '\n",
      "                                           '내삶을 따뜻하게 해준 잠 고마운 사람입니다',\n",
      "                                'title': '그런 사람 또 없습니다'},\n",
      "                    '_type': '_doc'}],\n",
      "          'max_score': 2.5875735,\n",
      "          'total': {'relation': 'eq', 'value': 5}},\n",
      " 'timed_out': False,\n",
      " 'took': 18}\n"
     ]
    }
   ],
   "source": [
    "res = es.search(index=INDEX_NAME, q=query, size=10)\n",
    "pprint.pprint(res)"
   ]
  },
  {
   "cell_type": "code",
   "execution_count": 136,
   "metadata": {},
   "outputs": [
    {
     "name": "stdout",
     "output_type": "stream",
     "text": [
      "Doc ID: '2'  Score:  2.59\n",
      "Doc ID: '3'  Score:  2.37\n",
      "Doc ID: '1'  Score:  1.88\n",
      "Doc ID: '4'  Score:  0.67\n",
      "Doc ID: '5'  Score:  0.12\n"
     ]
    }
   ],
   "source": [
    "for hit in res['hits']['hits']:\n",
    "    print(\"Doc ID: %3r  Score: %5.2f\" % (hit['_id'], hit['_score']))\n"
   ]
  },
  {
   "cell_type": "code",
   "execution_count": null,
   "metadata": {},
   "outputs": [],
   "source": []
  }
 ],
 "metadata": {
  "kernelspec": {
   "display_name": "Python 3",
   "language": "python",
   "name": "python3"
  },
  "language_info": {
   "codemirror_mode": {
    "name": "ipython",
    "version": 3
   },
   "file_extension": ".py",
   "mimetype": "text/x-python",
   "name": "python",
   "nbconvert_exporter": "python",
   "pygments_lexer": "ipython3",
   "version": "3.8.5"
  }
 },
 "nbformat": 4,
 "nbformat_minor": 4
}
