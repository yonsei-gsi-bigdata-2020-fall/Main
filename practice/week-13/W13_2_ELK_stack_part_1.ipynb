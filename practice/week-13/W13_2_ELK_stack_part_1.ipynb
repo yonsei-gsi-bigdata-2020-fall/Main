{
 "cells": [
  {
   "cell_type": "markdown",
   "metadata": {},
   "source": [
    "# BIG DATA ANALYTICS PROGRAMMING : Elasticsearch, Kibana\n",
    "엘라스틱서치와 키바나의 기본 원리와 사용법에 대해서 배웁니다.\n",
    "____\n",
    "- 본자료는 허민석님의 ELK 강의를 기반으로 Python Client와 Elasticsearch 7.10버전에 맞게 재구성한 내용입니다\n",
    "- Sources:\n",
    "    - https://github.com/minsuk-heo/BigData\n",
    "    - https://www.youtube.com/watch?v=J2PIBQgEpC4&list=PLVNY1HnUlO24LCsgOxR_eK2Yi4sOgH9Pg&index=1\n",
    "    - https://kb.objectrocket.com/elasticsearch/how-to-use-python-helpers-to-bulk-load-data-into-an-elasticsearch-index\n",
    "    - https://docs.aws.amazon.com/ko_kr/elasticsearch-service/latest/developerguide/es-managedomains-logstash.html"
   ]
  },
  {
   "cell_type": "markdown",
   "metadata": {},
   "source": [
    "## 1. 라이브러리 설치 및 Import"
   ]
  },
  {
   "cell_type": "code",
   "execution_count": null,
   "metadata": {},
   "outputs": [],
   "source": [
    "import sys\n",
    "!{sys.executable} -m pip install elasticsearch\n",
    "\n"
   ]
  },
  {
   "cell_type": "code",
   "execution_count": 1,
   "metadata": {},
   "outputs": [],
   "source": [
    "from elasticsearch import Elasticsearch, helpers\n",
    "import pprint"
   ]
  },
  {
   "cell_type": "markdown",
   "metadata": {},
   "source": [
    "## 2. Elasticsearch 연결"
   ]
  },
  {
   "cell_type": "code",
   "execution_count": 2,
   "metadata": {},
   "outputs": [],
   "source": [
    "\n",
    "host = \"\"\n",
    "\n",
    "try:\n",
    "    es.transport.close()\n",
    "except:\n",
    "    pass\n",
    "es = Elasticsearch([host],port=9201)\n",
    "\n"
   ]
  },
  {
   "cell_type": "markdown",
   "metadata": {},
   "source": [
    "## 3. Classes라는 인덱스 생성"
   ]
  },
  {
   "cell_type": "code",
   "execution_count": 3,
   "metadata": {},
   "outputs": [
    {
     "data": {
      "text/plain": [
       "{'acknowledged': True, 'shards_acknowledged': True, 'index': 'classes'}"
      ]
     },
     "execution_count": 3,
     "metadata": {},
     "output_type": "execute_result"
    }
   ],
   "source": [
    "INDEX_NAME = \"classes\"\n",
    "if es.indices.exists(INDEX_NAME):\n",
    "    es.indices.delete(index=INDEX_NAME)\n",
    "es.indices.create(index=INDEX_NAME)"
   ]
  },
  {
   "cell_type": "code",
   "execution_count": 4,
   "metadata": {},
   "outputs": [
    {
     "name": "stdout",
     "output_type": "stream",
     "text": [
      "{'classes': {'aliases': {},\n",
      "             'mappings': {},\n",
      "             'settings': {'index': {'creation_date': '1607619766242',\n",
      "                                    'number_of_replicas': '1',\n",
      "                                    'number_of_shards': '1',\n",
      "                                    'provided_name': 'classes',\n",
      "                                    'routing': {'allocation': {'include': {'_tier_preference': 'data_content'}}},\n",
      "                                    'uuid': 'evXEMDEAQgCPLgl06qvJ-Q',\n",
      "                                    'version': {'created': '7100199'}}}}}\n"
     ]
    }
   ],
   "source": [
    "# 잘 생성이 되었는지 확인\n",
    "result = es.indices.get(index=INDEX_NAME)\n",
    "pprint.pprint(result)"
   ]
  },
  {
   "cell_type": "markdown",
   "metadata": {},
   "source": [
    "## 4. Mapping 추가\n",
    "- RDB로 치면 Schema"
   ]
  },
  {
   "cell_type": "code",
   "execution_count": 5,
   "metadata": {},
   "outputs": [
    {
     "data": {
      "text/plain": [
       "{'acknowledged': True}"
      ]
     },
     "execution_count": 5,
     "metadata": {},
     "output_type": "execute_result"
    }
   ],
   "source": [
    "body= {\n",
    "    \"properties\" : {\n",
    "        \"title\" : {\n",
    "            \"type\" : \"text\"\n",
    "        },\n",
    "        \"professor\" : {\n",
    "            \"type\" : \"text\"\n",
    "        },\n",
    "        \"major\" : {\n",
    "            \"type\" : \"text\"\n",
    "        },\n",
    "        \"semester\" : {\n",
    "            \"type\" : \"text\"\n",
    "        },\n",
    "        \"student_count\" : {\n",
    "            \"type\" : \"integer\"\n",
    "        },\n",
    "        \"unit\" : {\n",
    "            \"type\" : \"integer\"\n",
    "        },\n",
    "        \"rating\" : {\n",
    "            \"type\" : \"integer\"\n",
    "        },\n",
    "        \"submit_date\" : {\n",
    "            \"type\" : \"date\",\n",
    "            \"format\" : \"yyyy-MM-dd\"\n",
    "        },\n",
    "        \"school_location\" : {\n",
    "            \"type\" : \"geo_point\"\n",
    "        }\n",
    "    }\n",
    "}\n",
    "es.indices.put_mapping(index=INDEX_NAME,body=body)"
   ]
  },
  {
   "cell_type": "code",
   "execution_count": 6,
   "metadata": {},
   "outputs": [
    {
     "name": "stdout",
     "output_type": "stream",
     "text": [
      "{'classes': {'aliases': {},\n",
      "             'mappings': {'properties': {'major': {'type': 'text'},\n",
      "                                         'professor': {'type': 'text'},\n",
      "                                         'rating': {'type': 'integer'},\n",
      "                                         'school_location': {'type': 'geo_point'},\n",
      "                                         'semester': {'type': 'text'},\n",
      "                                         'student_count': {'type': 'integer'},\n",
      "                                         'submit_date': {'format': 'yyyy-MM-dd',\n",
      "                                                         'type': 'date'},\n",
      "                                         'title': {'type': 'text'},\n",
      "                                         'unit': {'type': 'integer'}}},\n",
      "             'settings': {'index': {'creation_date': '1607619766242',\n",
      "                                    'number_of_replicas': '1',\n",
      "                                    'number_of_shards': '1',\n",
      "                                    'provided_name': 'classes',\n",
      "                                    'routing': {'allocation': {'include': {'_tier_preference': 'data_content'}}},\n",
      "                                    'uuid': 'evXEMDEAQgCPLgl06qvJ-Q',\n",
      "                                    'version': {'created': '7100199'}}}}}\n"
     ]
    }
   ],
   "source": [
    "#잘 추가되었는지 확인\n",
    "result = es.indices.get(index=INDEX_NAME)\n",
    "pprint.pprint(result)"
   ]
  },
  {
   "cell_type": "markdown",
   "metadata": {},
   "source": [
    "### Bulk 인덱싱을 위한 함수들\n",
    "- https://kb.objectrocket.com/elasticsearch/how-to-use-python-helpers-to-bulk-load-data-into-an-elasticsearch-index"
   ]
  },
  {
   "cell_type": "code",
   "execution_count": 7,
   "metadata": {},
   "outputs": [],
   "source": [
    "import uuid\n",
    "def get_data_from_file(file_name):\n",
    "    if \"/\" in file_name or chr(92) in file_name:\n",
    "        file = open(file_name, encoding=\"utf8\", errors='ignore')\n",
    "    else:\n",
    "        # use the script_path() function to get path if none is passed\n",
    "        file = open(script_path() + str(file_name), encoding=\"utf8\", errors='ignore')\n",
    "    data = [line.strip().replace(\" \",\"\") for line in file]\n",
    "    file.close()\n",
    "    return data\n",
    "\n",
    "def bulk_json_data(json_file, _index):\n",
    "    json_list = get_data_from_file(json_file)\n",
    "    for doc in json_list:\n",
    "        # use a `yield` generator so that the data\n",
    "        # isn't loaded inbto memory\n",
    "        if '{\"index\"' in doc:\n",
    "            _id = json.loads(doc)[\"index\"][\"_id\"]\n",
    "        if '{\"index\"' not in doc:\n",
    "            yield {\n",
    "                \"_index\": _index,\n",
    "                \"_id\": _id,\n",
    "                \"_source\": doc\n",
    "            }"
   ]
  },
  {
   "cell_type": "markdown",
   "metadata": {},
   "source": [
    "## Classes 데이터 인덱싱"
   ]
  },
  {
   "cell_type": "code",
   "execution_count": 9,
   "metadata": {},
   "outputs": [
    {
     "name": "stdout",
     "output_type": "stream",
     "text": [
      "\n",
      "RESPONSE: (24, [])\n"
     ]
    }
   ],
   "source": [
    "import json\n",
    "try:\n",
    "    response = helpers.bulk(es, bulk_json_data(\"data/classes.json\", INDEX_NAME))\n",
    "    print (\"\\nRESPONSE:\", response)\n",
    "except Exception as e:\n",
    "    print(\"\\nERROR:\", e)"
   ]
  },
  {
   "cell_type": "code",
   "execution_count": 10,
   "metadata": {},
   "outputs": [
    {
     "name": "stdout",
     "output_type": "stream",
     "text": [
      "{'_id': '1',\n",
      " '_index': 'classes',\n",
      " '_primary_term': 1,\n",
      " '_seq_no': 0,\n",
      " '_source': {'Professor': 'MinsukHeo',\n",
      "             'major': 'ComputerScience',\n",
      "             'rating': 5,\n",
      "             'school_location': {'lat': 36.0, 'lon': -120.0},\n",
      "             'semester': ['spring', 'fall'],\n",
      "             'student_count': 100,\n",
      "             'submit_date': '2016-01-02',\n",
      "             'title': 'MachineLearning',\n",
      "             'unit': 3},\n",
      " '_type': '_doc',\n",
      " '_version': 1,\n",
      " 'found': True}\n"
     ]
    }
   ],
   "source": [
    "#잘 들어갔는지 확인!\n",
    "doc = es.get(index=INDEX_NAME, id=1)\n",
    "pprint.pprint(doc)"
   ]
  },
  {
   "cell_type": "markdown",
   "metadata": {},
   "source": [
    "## Elasticsearch의 Search 함수 활용해보기"
   ]
  },
  {
   "cell_type": "code",
   "execution_count": 11,
   "metadata": {},
   "outputs": [
    {
     "name": "stdout",
     "output_type": "stream",
     "text": [
      "\n",
      "RESPONSE: (16, [])\n"
     ]
    }
   ],
   "source": [
    "INDEX_NAME = \"basketball\"\n",
    "try:\n",
    "    response = helpers.bulk(es, bulk_json_data(\"data/bulk_basketball.json\", INDEX_NAME))\n",
    "    print (\"\\nRESPONSE:\", response)\n",
    "except Exception as e:\n",
    "    print(\"\\nERROR:\", e)"
   ]
  },
  {
   "cell_type": "code",
   "execution_count": 12,
   "metadata": {},
   "outputs": [
    {
     "name": "stdout",
     "output_type": "stream",
     "text": [
      "{'_shards': {'failed': 0, 'skipped': 0, 'successful': 1, 'total': 1},\n",
      " 'hits': {'hits': [{'_id': '1',\n",
      "                    '_index': 'basketball',\n",
      "                    '_score': 1.0,\n",
      "                    '_source': {'assists': 4,\n",
      "                                'blocks': 5,\n",
      "                                'name': 'StephenCurry',\n",
      "                                'points': 30,\n",
      "                                'rebounds': 3,\n",
      "                                'submit_date': '2016-10-11',\n",
      "                                'team': 'GoldenStatesWarriors'},\n",
      "                    '_type': '_doc'},\n",
      "                   {'_id': '2',\n",
      "                    '_index': 'basketball',\n",
      "                    '_score': 1.0,\n",
      "                    '_source': {'assists': 8,\n",
      "                                'blocks': 5,\n",
      "                                'name': 'StephenCurry',\n",
      "                                'points': 32,\n",
      "                                'rebounds': 5,\n",
      "                                'submit_date': '2016-10-13',\n",
      "                                'team': 'GoldenStatesWarriors'},\n",
      "                    '_type': '_doc'},\n",
      "                   {'_id': '3',\n",
      "                    '_index': 'basketball',\n",
      "                    '_score': 1.0,\n",
      "                    '_source': {'assists': 3,\n",
      "                                'blocks': 1,\n",
      "                                'name': 'StephenCurry',\n",
      "                                'points': 28,\n",
      "                                'rebounds': 2,\n",
      "                                'submit_date': '2016-10-17',\n",
      "                                'team': 'GoldenStatesWarriors'},\n",
      "                    '_type': '_doc'},\n",
      "                   {'_id': '4',\n",
      "                    '_index': 'basketball',\n",
      "                    '_score': 1.0,\n",
      "                    '_source': {'assists': 2,\n",
      "                                'blocks': 1,\n",
      "                                'name': 'StephenCurry',\n",
      "                                'points': 36,\n",
      "                                'rebounds': 1,\n",
      "                                'submit_date': '2016-11-20',\n",
      "                                'team': 'GoldenStatesWarriors'},\n",
      "                    '_type': '_doc'},\n",
      "                   {'_id': '5',\n",
      "                    '_index': 'basketball',\n",
      "                    '_score': 1.0,\n",
      "                    '_source': {'assists': 2,\n",
      "                                'blocks': 1,\n",
      "                                'name': 'StephenCurry',\n",
      "                                'points': 36,\n",
      "                                'rebounds': 1,\n",
      "                                'submit_date': '2016-11-25',\n",
      "                                'team': 'GoldenStatesWarriors'},\n",
      "                    '_type': '_doc'},\n",
      "                   {'_id': '6',\n",
      "                    '_index': 'basketball',\n",
      "                    '_score': 1.0,\n",
      "                    '_source': {'assists': 4,\n",
      "                                'blocks': 1,\n",
      "                                'name': 'StephenCurry',\n",
      "                                'points': 32,\n",
      "                                'rebounds': 1,\n",
      "                                'submit_date': '2016-11-28',\n",
      "                                'team': 'GoldenStatesWarriors'},\n",
      "                    '_type': '_doc'},\n",
      "                   {'_id': '7',\n",
      "                    '_index': 'basketball',\n",
      "                    '_score': 1.0,\n",
      "                    '_source': {'assists': 4,\n",
      "                                'blocks': 7,\n",
      "                                'name': 'RudyGobert',\n",
      "                                'points': 3,\n",
      "                                'rebounds': 11,\n",
      "                                'submit_date': '2016-10-12',\n",
      "                                'team': 'UtahJazz'},\n",
      "                    '_type': '_doc'},\n",
      "                   {'_id': '8',\n",
      "                    '_index': 'basketball',\n",
      "                    '_score': 1.0,\n",
      "                    '_source': {'assists': 8,\n",
      "                                'blocks': 5,\n",
      "                                'name': 'RudyGobert',\n",
      "                                'points': 4,\n",
      "                                'rebounds': 13,\n",
      "                                'submit_date': '2016-10-14',\n",
      "                                'team': 'UtahJazz'},\n",
      "                    '_type': '_doc'},\n",
      "                   {'_id': '9',\n",
      "                    '_index': 'basketball',\n",
      "                    '_score': 1.0,\n",
      "                    '_source': {'assists': 3,\n",
      "                                'blocks': 6,\n",
      "                                'name': 'RudyGobert',\n",
      "                                'points': 8,\n",
      "                                'rebounds': 10,\n",
      "                                'submit_date': '2016-10-18',\n",
      "                                'team': 'UtahJazz'},\n",
      "                    '_type': '_doc'},\n",
      "                   {'_id': '10',\n",
      "                    '_index': 'basketball',\n",
      "                    '_score': 1.0,\n",
      "                    '_source': {'assists': 2,\n",
      "                                'blocks': 6,\n",
      "                                'name': 'RudyGobert',\n",
      "                                'points': 12,\n",
      "                                'rebounds': 9,\n",
      "                                'submit_date': '2016-11-10',\n",
      "                                'team': 'UtahJazz'},\n",
      "                    '_type': '_doc'}],\n",
      "          'max_score': 1.0,\n",
      "          'total': {'relation': 'eq', 'value': 16}},\n",
      " 'timed_out': False,\n",
      " 'took': 2}\n"
     ]
    }
   ],
   "source": [
    "res = es.search(index=INDEX_NAME)\n",
    "pprint.pprint(res)"
   ]
  },
  {
   "cell_type": "code",
   "execution_count": 13,
   "metadata": {},
   "outputs": [
    {
     "name": "stdout",
     "output_type": "stream",
     "text": [
      "{'_shards': {'failed': 0, 'skipped': 0, 'successful': 1, 'total': 1},\n",
      " 'hits': {'hits': [{'_id': '1',\n",
      "                    '_index': 'basketball',\n",
      "                    '_score': 1.0,\n",
      "                    '_source': {'assists': 4,\n",
      "                                'blocks': 5,\n",
      "                                'name': 'StephenCurry',\n",
      "                                'points': 30,\n",
      "                                'rebounds': 3,\n",
      "                                'submit_date': '2016-10-11',\n",
      "                                'team': 'GoldenStatesWarriors'},\n",
      "                    '_type': '_doc'}],\n",
      "          'max_score': 1.0,\n",
      "          'total': {'relation': 'eq', 'value': 1}},\n",
      " 'timed_out': False,\n",
      " 'took': 1}\n"
     ]
    }
   ],
   "source": [
    "body = {\n",
    "    \"query\": {\n",
    "        \"term\": {\n",
    "            \"points\":30\n",
    "        }\n",
    "    }\n",
    "}\n",
    "res = es.search(body=body,index=INDEX_NAME)\n",
    "pprint.pprint(res)"
   ]
  },
  {
   "cell_type": "markdown",
   "metadata": {},
   "source": [
    "## Elasticsearch의 Aggregation 활용해보기"
   ]
  },
  {
   "cell_type": "code",
   "execution_count": 14,
   "metadata": {},
   "outputs": [
    {
     "name": "stdout",
     "output_type": "stream",
     "text": [
      "\n",
      "RESPONSE: (2, [])\n"
     ]
    }
   ],
   "source": [
    "INDEX_NAME = \"basketball\"\n",
    "if es.indices.exists(INDEX_NAME):\n",
    "    es.indices.delete(index=INDEX_NAME)\n",
    "try:\n",
    "    response = helpers.bulk(es, bulk_json_data(\"data/simple_basketball.json\", INDEX_NAME))\n",
    "    print (\"\\nRESPONSE:\", response)\n",
    "except Exception as e:\n",
    "    print(\"\\nERROR:\", e)"
   ]
  },
  {
   "cell_type": "code",
   "execution_count": 15,
   "metadata": {},
   "outputs": [
    {
     "name": "stdout",
     "output_type": "stream",
     "text": [
      "{'_shards': {'failed': 0, 'skipped': 0, 'successful': 1, 'total': 1},\n",
      " 'aggregations': {'avg_score': {'value': 25.0}},\n",
      " 'hits': {'hits': [],\n",
      "          'max_score': None,\n",
      "          'total': {'relation': 'eq', 'value': 2}},\n",
      " 'timed_out': False,\n",
      " 'took': 2}\n"
     ]
    }
   ],
   "source": [
    "body = {\n",
    "    \"size\" : 0,\n",
    "    \"aggs\" : {\n",
    "        \"avg_score\" : {\n",
    "            \"avg\" : {\n",
    "                \"field\" : \"points\"\n",
    "            }\n",
    "        }\n",
    "    }\n",
    "}\n",
    "res = es.search(body=body,index=INDEX_NAME)\n",
    "pprint.pprint(res)"
   ]
  },
  {
   "cell_type": "code",
   "execution_count": 16,
   "metadata": {},
   "outputs": [
    {
     "name": "stdout",
     "output_type": "stream",
     "text": [
      "{'_shards': {'failed': 0, 'skipped': 0, 'successful': 1, 'total': 1},\n",
      " 'aggregations': {'max_score': {'value': 30.0}},\n",
      " 'hits': {'hits': [],\n",
      "          'max_score': None,\n",
      "          'total': {'relation': 'eq', 'value': 2}},\n",
      " 'timed_out': False,\n",
      " 'took': 1}\n"
     ]
    }
   ],
   "source": [
    "body = {\n",
    "    \"size\" : 0,\n",
    "    \"aggs\" : {\n",
    "        \"max_score\" : {\n",
    "            \"max\" : {\n",
    "                \"field\" : \"points\"\n",
    "            }\n",
    "        }\n",
    "    }\n",
    "}\n",
    "res = es.search(body=body,index=INDEX_NAME)\n",
    "pprint.pprint(res)"
   ]
  },
  {
   "cell_type": "code",
   "execution_count": 17,
   "metadata": {},
   "outputs": [
    {
     "name": "stdout",
     "output_type": "stream",
     "text": [
      "{'_shards': {'failed': 0, 'skipped': 0, 'successful': 1, 'total': 1},\n",
      " 'aggregations': {'min_score': {'value': 20.0}},\n",
      " 'hits': {'hits': [],\n",
      "          'max_score': None,\n",
      "          'total': {'relation': 'eq', 'value': 2}},\n",
      " 'timed_out': False,\n",
      " 'took': 1}\n"
     ]
    }
   ],
   "source": [
    "body = {\n",
    "    \"size\" : 0,\n",
    "    \"aggs\" : {\n",
    "        \"min_score\" : {\n",
    "            \"min\" : {\n",
    "                \"field\" : \"points\"\n",
    "            }\n",
    "        }\n",
    "    }\n",
    "}\n",
    "res = es.search(body=body,index=INDEX_NAME)\n",
    "pprint.pprint(res)"
   ]
  },
  {
   "cell_type": "code",
   "execution_count": 18,
   "metadata": {},
   "outputs": [
    {
     "name": "stdout",
     "output_type": "stream",
     "text": [
      "{'_shards': {'failed': 0, 'skipped': 0, 'successful': 1, 'total': 1},\n",
      " 'aggregations': {'sum_score': {'value': 50.0}},\n",
      " 'hits': {'hits': [],\n",
      "          'max_score': None,\n",
      "          'total': {'relation': 'eq', 'value': 2}},\n",
      " 'timed_out': False,\n",
      " 'took': 1}\n"
     ]
    }
   ],
   "source": [
    "body = {\n",
    "    \"size\" : 0,\n",
    "    \"aggs\" : {\n",
    "        \"sum_score\" : {\n",
    "            \"sum\" : {\n",
    "                \"field\" : \"points\"\n",
    "            }\n",
    "        }\n",
    "    }\n",
    "}\n",
    "res = es.search(body=body,index=INDEX_NAME)\n",
    "pprint.pprint(res)"
   ]
  },
  {
   "cell_type": "code",
   "execution_count": 19,
   "metadata": {
    "scrolled": true
   },
   "outputs": [
    {
     "name": "stdout",
     "output_type": "stream",
     "text": [
      "{'_shards': {'failed': 0, 'skipped': 0, 'successful': 1, 'total': 1},\n",
      " 'aggregations': {'stats_score': {'avg': 25.0,\n",
      "                                  'count': 2,\n",
      "                                  'max': 30.0,\n",
      "                                  'min': 20.0,\n",
      "                                  'sum': 50.0}},\n",
      " 'hits': {'hits': [],\n",
      "          'max_score': None,\n",
      "          'total': {'relation': 'eq', 'value': 2}},\n",
      " 'timed_out': False,\n",
      " 'took': 1}\n"
     ]
    }
   ],
   "source": [
    "body ={\n",
    "    \"size\" : 0,\n",
    "    \"aggs\" : {\n",
    "        \"stats_score\" : {\n",
    "            \"stats\" : {\n",
    "                \"field\" : \"points\"\n",
    "            }\n",
    "        }\n",
    "    }\n",
    "}\n",
    "res = es.search(body=body,index=INDEX_NAME)\n",
    "pprint.pprint(res)"
   ]
  },
  {
   "cell_type": "markdown",
   "metadata": {},
   "source": [
    "## Elasticsearch의 Bucket Aggregation 활용해보기"
   ]
  },
  {
   "cell_type": "code",
   "execution_count": 21,
   "metadata": {},
   "outputs": [
    {
     "data": {
      "text/plain": [
       "{'acknowledged': True, 'shards_acknowledged': True, 'index': 'basketball'}"
      ]
     },
     "execution_count": 21,
     "metadata": {},
     "output_type": "execute_result"
    }
   ],
   "source": [
    "INDEX_NAME = \"basketball\"\n",
    "if es.indices.exists(INDEX_NAME):\n",
    "    es.indices.delete(index=INDEX_NAME)\n",
    "\n",
    "es.indices.create(index=INDEX_NAME)"
   ]
  },
  {
   "cell_type": "code",
   "execution_count": 22,
   "metadata": {},
   "outputs": [
    {
     "data": {
      "text/plain": [
       "{'acknowledged': True}"
      ]
     },
     "execution_count": 22,
     "metadata": {},
     "output_type": "execute_result"
    }
   ],
   "source": [
    "#FieldData 가 True인 이유\n",
    "#Term aggregation을 위해\n",
    "body= {\n",
    "    \"properties\" : {\n",
    "        \"team\" : {\n",
    "            \"type\" : \"text\",\n",
    "            \"fielddata\" : True\n",
    "        },\n",
    "        \"name\" : {\n",
    "            \"type\" : \"text\",\n",
    "            \"fielddata\" : True\n",
    "        },\n",
    "        \"points\" : {\n",
    "            \"type\" : \"long\"\n",
    "        },\n",
    "        \"rebounds\" : {\n",
    "            \"type\" : \"long\"\n",
    "        },\n",
    "        \"assists\" : {\n",
    "            \"type\" : \"long\"\n",
    "        },\n",
    "        \"blocks\" : {\n",
    "            \"type\" : \"long\"\n",
    "        },\n",
    "        \"submit_date\" : {\n",
    "            \"type\" : \"date\",\n",
    "            \"format\" : \"yyyy-MM-dd\"\n",
    "        }\n",
    "    }\n",
    "}\n",
    "\n",
    "es.indices.put_mapping(index=INDEX_NAME,body=body)"
   ]
  },
  {
   "cell_type": "code",
   "execution_count": 23,
   "metadata": {},
   "outputs": [
    {
     "name": "stdout",
     "output_type": "stream",
     "text": [
      "\n",
      "RESPONSE: (4, [])\n"
     ]
    }
   ],
   "source": [
    "try:\n",
    "    response = helpers.bulk(es, bulk_json_data(\"data/twoteam_basketball.json\", INDEX_NAME))\n",
    "    print (\"\\nRESPONSE:\", response)\n",
    "except Exception as e:\n",
    "    print(\"\\nERROR:\", e)"
   ]
  },
  {
   "cell_type": "code",
   "execution_count": 24,
   "metadata": {},
   "outputs": [
    {
     "name": "stdout",
     "output_type": "stream",
     "text": [
      "{'_shards': {'failed': 0, 'skipped': 0, 'successful': 1, 'total': 1},\n",
      " 'aggregations': {'players': {'buckets': [{'doc_count': 2, 'key': 'chicago'},\n",
      "                                          {'doc_count': 2, 'key': 'la'}],\n",
      "                              'doc_count_error_upper_bound': 0,\n",
      "                              'sum_other_doc_count': 0}},\n",
      " 'hits': {'hits': [],\n",
      "          'max_score': None,\n",
      "          'total': {'relation': 'eq', 'value': 4}},\n",
      " 'timed_out': False,\n",
      " 'took': 8}\n"
     ]
    }
   ],
   "source": [
    "body = {\n",
    "    \"size\" : 0,\n",
    "    \"aggs\" : {\n",
    "        \"players\" : {\n",
    "            \"terms\" : {\n",
    "                \"field\" : \"team\"\n",
    "            }\n",
    "        }\n",
    "    }\n",
    "}\n",
    "res = es.search(body=body,index=INDEX_NAME)\n",
    "pprint.pprint(res)"
   ]
  },
  {
   "cell_type": "code",
   "execution_count": 25,
   "metadata": {},
   "outputs": [
    {
     "name": "stdout",
     "output_type": "stream",
     "text": [
      "{'_shards': {'failed': 0, 'skipped': 0, 'successful': 1, 'total': 1},\n",
      " 'aggregations': {'team_stats': {'buckets': [{'doc_count': 2,\n",
      "                                              'key': 'chicago',\n",
      "                                              'stats_score': {'avg': 25.0,\n",
      "                                                              'count': 2,\n",
      "                                                              'max': 30.0,\n",
      "                                                              'min': 20.0,\n",
      "                                                              'sum': 50.0}},\n",
      "                                             {'doc_count': 2,\n",
      "                                              'key': 'la',\n",
      "                                              'stats_score': {'avg': 35.0,\n",
      "                                                              'count': 2,\n",
      "                                                              'max': 40.0,\n",
      "                                                              'min': 30.0,\n",
      "                                                              'sum': 70.0}}],\n",
      "                                 'doc_count_error_upper_bound': 0,\n",
      "                                 'sum_other_doc_count': 0}},\n",
      " 'hits': {'hits': [],\n",
      "          'max_score': None,\n",
      "          'total': {'relation': 'eq', 'value': 4}},\n",
      " 'timed_out': False,\n",
      " 'took': 2}\n"
     ]
    }
   ],
   "source": [
    "body = {\n",
    "    \"size\" : 0,\n",
    "    \"aggs\" : {\n",
    "        \"team_stats\" : {\n",
    "            \"terms\" : {\n",
    "                \"field\" : \"team\"\n",
    "            },\n",
    "            \"aggs\" : {\n",
    "                \"stats_score\" : {\n",
    "                    \"stats\" : {\n",
    "                        \"field\" : \"points\"\n",
    "                    }\n",
    "                }\n",
    "            }\n",
    "        }\n",
    "    }\n",
    "}\n",
    "res = es.search(body=body,index=INDEX_NAME)\n",
    "pprint.pprint(res)"
   ]
  },
  {
   "cell_type": "markdown",
   "metadata": {},
   "source": [
    "## Kibana 활용해보기"
   ]
  },
  {
   "cell_type": "code",
   "execution_count": 26,
   "metadata": {},
   "outputs": [
    {
     "data": {
      "text/plain": [
       "{'acknowledged': True, 'shards_acknowledged': True, 'index': 'basketball'}"
      ]
     },
     "execution_count": 26,
     "metadata": {},
     "output_type": "execute_result"
    }
   ],
   "source": [
    "INDEX_NAME = \"basketball\"\n",
    "if es.indices.exists(INDEX_NAME):\n",
    "    es.indices.delete(index=INDEX_NAME)\n",
    "\n",
    "es.indices.create(index=INDEX_NAME)"
   ]
  },
  {
   "cell_type": "code",
   "execution_count": 27,
   "metadata": {},
   "outputs": [
    {
     "data": {
      "text/plain": [
       "{'acknowledged': True}"
      ]
     },
     "execution_count": 27,
     "metadata": {},
     "output_type": "execute_result"
    }
   ],
   "source": [
    "#FieldData 가 True인 이유\n",
    "#Term aggregation을 위해\n",
    "body={\n",
    "    \"properties\" : {\n",
    "        \"team\" : {\n",
    "            \"type\" : \"text\",\n",
    "            \"fielddata\" : True\n",
    "        },\n",
    "        \"name\" : {\n",
    "            \"type\" : \"text\",\n",
    "            \"fielddata\" : True\n",
    "        },\n",
    "        \"points\" : {\n",
    "            \"type\" : \"long\"\n",
    "        },\n",
    "        \"rebounds\" : {\n",
    "            \"type\" : \"long\"\n",
    "        },\n",
    "        \"assists\" : {\n",
    "            \"type\" : \"long\"\n",
    "        },\n",
    "        \"blocks\" : {\n",
    "            \"type\" : \"long\"\n",
    "        },\n",
    "        \"submit_date\" : {\n",
    "            \"type\" : \"date\",\n",
    "            \"format\" : \"yyyy-MM-dd\"\n",
    "        }\n",
    "    }\n",
    "}\n",
    "\n",
    "\n",
    "es.indices.put_mapping(index=INDEX_NAME,body=body)"
   ]
  },
  {
   "cell_type": "code",
   "execution_count": 28,
   "metadata": {},
   "outputs": [
    {
     "name": "stdout",
     "output_type": "stream",
     "text": [
      "\n",
      "RESPONSE: (16, [])\n"
     ]
    }
   ],
   "source": [
    "try:\n",
    "    response = helpers.bulk(es, bulk_json_data(\"data/bulk_basketball2.json\", INDEX_NAME))\n",
    "    print (\"\\nRESPONSE:\", response)\n",
    "except Exception as e:\n",
    "    print(\"\\nERROR:\", e)"
   ]
  },
  {
   "cell_type": "code",
   "execution_count": null,
   "metadata": {},
   "outputs": [],
   "source": []
  }
 ],
 "metadata": {
  "kernelspec": {
   "display_name": "Python 3",
   "language": "python",
   "name": "python3"
  },
  "language_info": {
   "codemirror_mode": {
    "name": "ipython",
    "version": 3
   },
   "file_extension": ".py",
   "mimetype": "text/x-python",
   "name": "python",
   "nbconvert_exporter": "python",
   "pygments_lexer": "ipython3",
   "version": "3.8.5"
  }
 },
 "nbformat": 4,
 "nbformat_minor": 4
}
