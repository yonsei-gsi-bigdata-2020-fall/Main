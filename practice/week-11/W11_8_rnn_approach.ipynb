{
 "cells": [
  {
   "cell_type": "markdown",
   "metadata": {},
   "source": [
    "# BIG DATA ANALYSIS : 딥러닝을 이용한 주시가격 예측\n",
    "## RNN을 이용한 주시가격 예측\n",
    "---"
   ]
  },
  {
   "cell_type": "code",
   "execution_count": 76,
   "metadata": {},
   "outputs": [
    {
     "name": "stdout",
     "output_type": "stream",
     "text": [
      "Requirement already satisfied: tensorflow in /opt/anaconda3/lib/python3.7/site-packages (2.0.0rc1)\n",
      "Requirement already satisfied: astor>=0.6.0 in /opt/anaconda3/lib/python3.7/site-packages (from tensorflow) (0.8.1)\n",
      "Requirement already satisfied: grpcio>=1.8.6 in /opt/anaconda3/lib/python3.7/site-packages (from tensorflow) (1.32.0)\n",
      "Requirement already satisfied: gast>=0.2.0 in /opt/anaconda3/lib/python3.7/site-packages (from tensorflow) (0.3.3)\n",
      "Requirement already satisfied: google-pasta>=0.1.6 in /opt/anaconda3/lib/python3.7/site-packages (from tensorflow) (0.2.0)\n",
      "Requirement already satisfied: tb-nightly<1.15.0a20190807,>=1.15.0a20190806 in /opt/anaconda3/lib/python3.7/site-packages (from tensorflow) (1.15.0a20190806)\n",
      "Requirement already satisfied: keras-applications>=1.0.8 in /opt/anaconda3/lib/python3.7/site-packages (from tensorflow) (1.0.8)\n",
      "Requirement already satisfied: protobuf>=3.6.1 in /opt/anaconda3/lib/python3.7/site-packages (from tensorflow) (3.13.0)\n",
      "Requirement already satisfied: keras-preprocessing>=1.0.5 in /opt/anaconda3/lib/python3.7/site-packages (from tensorflow) (1.1.2)\n",
      "Requirement already satisfied: numpy<2.0,>=1.16.0 in /opt/anaconda3/lib/python3.7/site-packages (from tensorflow) (1.18.5)\n",
      "Requirement already satisfied: wheel>=0.26 in /opt/anaconda3/lib/python3.7/site-packages (from tensorflow) (0.35.1)\n",
      "Requirement already satisfied: opt-einsum>=2.3.2 in /opt/anaconda3/lib/python3.7/site-packages (from tensorflow) (3.3.0)\n",
      "Requirement already satisfied: tf-estimator-nightly<1.14.0.dev2019080602,>=1.14.0.dev2019080601 in /opt/anaconda3/lib/python3.7/site-packages (from tensorflow) (1.14.0.dev2019080601)\n",
      "Requirement already satisfied: absl-py>=0.7.0 in /opt/anaconda3/lib/python3.7/site-packages (from tensorflow) (0.11.0)\n",
      "Requirement already satisfied: wrapt>=1.11.1 in /opt/anaconda3/lib/python3.7/site-packages (from tensorflow) (1.12.1)\n",
      "Requirement already satisfied: six>=1.10.0 in /opt/anaconda3/lib/python3.7/site-packages (from tensorflow) (1.15.0)\n",
      "Requirement already satisfied: termcolor>=1.1.0 in /opt/anaconda3/lib/python3.7/site-packages (from tensorflow) (1.1.0)\n",
      "Requirement already satisfied: markdown>=2.6.8 in /opt/anaconda3/lib/python3.7/site-packages (from tb-nightly<1.15.0a20190807,>=1.15.0a20190806->tensorflow) (3.2.2)\n",
      "Requirement already satisfied: setuptools>=41.0.0 in /opt/anaconda3/lib/python3.7/site-packages (from tb-nightly<1.15.0a20190807,>=1.15.0a20190806->tensorflow) (49.2.1)\n",
      "Requirement already satisfied: werkzeug>=0.11.15 in /opt/anaconda3/lib/python3.7/site-packages (from tb-nightly<1.15.0a20190807,>=1.15.0a20190806->tensorflow) (1.0.1)\n",
      "Requirement already satisfied: h5py in /opt/anaconda3/lib/python3.7/site-packages (from keras-applications>=1.0.8->tensorflow) (2.10.0)\n",
      "Requirement already satisfied: importlib-metadata; python_version < \"3.8\" in /opt/anaconda3/lib/python3.7/site-packages (from markdown>=2.6.8->tb-nightly<1.15.0a20190807,>=1.15.0a20190806->tensorflow) (1.7.0)\n",
      "Requirement already satisfied: zipp>=0.5 in /opt/anaconda3/lib/python3.7/site-packages (from importlib-metadata; python_version < \"3.8\"->markdown>=2.6.8->tb-nightly<1.15.0a20190807,>=1.15.0a20190806->tensorflow) (3.1.0)\n"
     ]
    }
   ],
   "source": [
    "import sys\n",
    "!{sys.executable} -m pip install tensorflow\n"
   ]
  },
  {
   "cell_type": "code",
   "execution_count": 102,
   "metadata": {},
   "outputs": [],
   "source": [
    "#관련 라이브러리 임포트\n",
    "import pandas as pd\n",
    "from sklearn.preprocessing import MinMaxScaler\n",
    "import numpy as np\n",
    "from sklearn import utils\n",
    "from tensorflow.keras.layers import Input\n",
    "from tensorflow.keras.layers import LSTM\n",
    "from tensorflow.keras.layers import Dense\n",
    "from tensorflow.keras.models import Model\n",
    "from tensorflow.keras.optimizers import Adam\n",
    "from tensorflow.keras.callbacks import ModelCheckpoint\n",
    "import tensorflow as tf\n",
    "import pandas_datareader.data as web\n",
    "\n",
    "tf.random.set_seed(777) "
   ]
  },
  {
   "cell_type": "markdown",
   "metadata": {},
   "source": [
    "## 1. 주식 데이터 로드"
   ]
  },
  {
   "cell_type": "code",
   "execution_count": 165,
   "metadata": {
    "scrolled": false
   },
   "outputs": [],
   "source": [
    "df = web.DataReader(\"005930.KS\", \"yahoo\", \"2018-01-01\", \"2020-11-20\")\n"
   ]
  },
  {
   "cell_type": "markdown",
   "metadata": {},
   "source": [
    "## 2. EDA"
   ]
  },
  {
   "cell_type": "code",
   "execution_count": 166,
   "metadata": {},
   "outputs": [
    {
     "data": {
      "text/html": [
       "<div>\n",
       "<style scoped>\n",
       "    .dataframe tbody tr th:only-of-type {\n",
       "        vertical-align: middle;\n",
       "    }\n",
       "\n",
       "    .dataframe tbody tr th {\n",
       "        vertical-align: top;\n",
       "    }\n",
       "\n",
       "    .dataframe thead th {\n",
       "        text-align: right;\n",
       "    }\n",
       "</style>\n",
       "<table border=\"1\" class=\"dataframe\">\n",
       "  <thead>\n",
       "    <tr style=\"text-align: right;\">\n",
       "      <th></th>\n",
       "      <th>High</th>\n",
       "      <th>Low</th>\n",
       "      <th>Open</th>\n",
       "      <th>Close</th>\n",
       "      <th>Volume</th>\n",
       "      <th>Adj Close</th>\n",
       "    </tr>\n",
       "    <tr>\n",
       "      <th>Date</th>\n",
       "      <th></th>\n",
       "      <th></th>\n",
       "      <th></th>\n",
       "      <th></th>\n",
       "      <th></th>\n",
       "      <th></th>\n",
       "    </tr>\n",
       "  </thead>\n",
       "  <tbody>\n",
       "    <tr>\n",
       "      <th>2018-01-03</th>\n",
       "      <td>52560.0</td>\n",
       "      <td>51420.0</td>\n",
       "      <td>52540.0</td>\n",
       "      <td>51620.0</td>\n",
       "      <td>10013500.0</td>\n",
       "      <td>32073.728516</td>\n",
       "    </tr>\n",
       "    <tr>\n",
       "      <th>2018-01-04</th>\n",
       "      <td>52180.0</td>\n",
       "      <td>50640.0</td>\n",
       "      <td>52120.0</td>\n",
       "      <td>51080.0</td>\n",
       "      <td>11695450.0</td>\n",
       "      <td>31738.205078</td>\n",
       "    </tr>\n",
       "    <tr>\n",
       "      <th>2018-01-05</th>\n",
       "      <td>52120.0</td>\n",
       "      <td>51200.0</td>\n",
       "      <td>51300.0</td>\n",
       "      <td>52120.0</td>\n",
       "      <td>9481150.0</td>\n",
       "      <td>32384.400391</td>\n",
       "    </tr>\n",
       "    <tr>\n",
       "      <th>2018-01-08</th>\n",
       "      <td>52520.0</td>\n",
       "      <td>51500.0</td>\n",
       "      <td>52400.0</td>\n",
       "      <td>52020.0</td>\n",
       "      <td>8383650.0</td>\n",
       "      <td>32322.263672</td>\n",
       "    </tr>\n",
       "    <tr>\n",
       "      <th>2018-01-09</th>\n",
       "      <td>51720.0</td>\n",
       "      <td>49980.0</td>\n",
       "      <td>51460.0</td>\n",
       "      <td>50400.0</td>\n",
       "      <td>18013600.0</td>\n",
       "      <td>31315.691406</td>\n",
       "    </tr>\n",
       "  </tbody>\n",
       "</table>\n",
       "</div>"
      ],
      "text/plain": [
       "               High      Low     Open    Close      Volume     Adj Close\n",
       "Date                                                                    \n",
       "2018-01-03  52560.0  51420.0  52540.0  51620.0  10013500.0  32073.728516\n",
       "2018-01-04  52180.0  50640.0  52120.0  51080.0  11695450.0  31738.205078\n",
       "2018-01-05  52120.0  51200.0  51300.0  52120.0   9481150.0  32384.400391\n",
       "2018-01-08  52520.0  51500.0  52400.0  52020.0   8383650.0  32322.263672\n",
       "2018-01-09  51720.0  49980.0  51460.0  50400.0  18013600.0  31315.691406"
      ]
     },
     "execution_count": 166,
     "metadata": {},
     "output_type": "execute_result"
    }
   ],
   "source": [
    "df.head()"
   ]
  },
  {
   "cell_type": "code",
   "execution_count": 167,
   "metadata": {
    "scrolled": true
   },
   "outputs": [
    {
     "name": "stdout",
     "output_type": "stream",
     "text": [
      "<class 'pandas.core.frame.DataFrame'>\n",
      "DatetimeIndex: 708 entries, 2018-01-03 to 2020-11-20\n",
      "Data columns (total 6 columns):\n",
      " #   Column     Non-Null Count  Dtype  \n",
      "---  ------     --------------  -----  \n",
      " 0   High       708 non-null    float64\n",
      " 1   Low        708 non-null    float64\n",
      " 2   Open       708 non-null    float64\n",
      " 3   Close      708 non-null    float64\n",
      " 4   Volume     708 non-null    float64\n",
      " 5   Adj Close  708 non-null    float64\n",
      "dtypes: float64(6)\n",
      "memory usage: 38.7 KB\n"
     ]
    }
   ],
   "source": [
    "df.info()"
   ]
  },
  {
   "cell_type": "code",
   "execution_count": 168,
   "metadata": {},
   "outputs": [
    {
     "data": {
      "text/html": [
       "<div>\n",
       "<style scoped>\n",
       "    .dataframe tbody tr th:only-of-type {\n",
       "        vertical-align: middle;\n",
       "    }\n",
       "\n",
       "    .dataframe tbody tr th {\n",
       "        vertical-align: top;\n",
       "    }\n",
       "\n",
       "    .dataframe thead th {\n",
       "        text-align: right;\n",
       "    }\n",
       "</style>\n",
       "<table border=\"1\" class=\"dataframe\">\n",
       "  <thead>\n",
       "    <tr style=\"text-align: right;\">\n",
       "      <th></th>\n",
       "      <th>High</th>\n",
       "      <th>Low</th>\n",
       "      <th>Open</th>\n",
       "      <th>Close</th>\n",
       "      <th>Volume</th>\n",
       "      <th>Adj Close</th>\n",
       "    </tr>\n",
       "  </thead>\n",
       "  <tbody>\n",
       "    <tr>\n",
       "      <th>count</th>\n",
       "      <td>708.000000</td>\n",
       "      <td>708.000000</td>\n",
       "      <td>708.000000</td>\n",
       "      <td>708.000000</td>\n",
       "      <td>7.080000e+02</td>\n",
       "      <td>708.000000</td>\n",
       "    </tr>\n",
       "    <tr>\n",
       "      <th>mean</th>\n",
       "      <td>49910.112994</td>\n",
       "      <td>48864.138418</td>\n",
       "      <td>49403.121469</td>\n",
       "      <td>49385.423729</td>\n",
       "      <td>1.470608e+07</td>\n",
       "      <td>47663.158385</td>\n",
       "    </tr>\n",
       "    <tr>\n",
       "      <th>std</th>\n",
       "      <td>5729.245576</td>\n",
       "      <td>5609.264434</td>\n",
       "      <td>5686.644046</td>\n",
       "      <td>5666.111521</td>\n",
       "      <td>8.303756e+06</td>\n",
       "      <td>7696.617391</td>\n",
       "    </tr>\n",
       "    <tr>\n",
       "      <th>min</th>\n",
       "      <td>37600.000000</td>\n",
       "      <td>36850.000000</td>\n",
       "      <td>37450.000000</td>\n",
       "      <td>37450.000000</td>\n",
       "      <td>0.000000e+00</td>\n",
       "      <td>27774.033203</td>\n",
       "    </tr>\n",
       "    <tr>\n",
       "      <th>25%</th>\n",
       "      <td>45800.000000</td>\n",
       "      <td>44850.000000</td>\n",
       "      <td>45200.000000</td>\n",
       "      <td>45350.000000</td>\n",
       "      <td>9.230368e+06</td>\n",
       "      <td>43950.000000</td>\n",
       "    </tr>\n",
       "    <tr>\n",
       "      <th>50%</th>\n",
       "      <td>48990.000000</td>\n",
       "      <td>47650.000000</td>\n",
       "      <td>48250.000000</td>\n",
       "      <td>48400.000000</td>\n",
       "      <td>1.263644e+07</td>\n",
       "      <td>46900.000000</td>\n",
       "    </tr>\n",
       "    <tr>\n",
       "      <th>75%</th>\n",
       "      <td>53200.000000</td>\n",
       "      <td>52000.000000</td>\n",
       "      <td>52650.000000</td>\n",
       "      <td>52700.000000</td>\n",
       "      <td>1.777495e+07</td>\n",
       "      <td>52325.000000</td>\n",
       "    </tr>\n",
       "    <tr>\n",
       "      <th>max</th>\n",
       "      <td>67000.000000</td>\n",
       "      <td>65600.000000</td>\n",
       "      <td>67000.000000</td>\n",
       "      <td>66300.000000</td>\n",
       "      <td>6.468130e+07</td>\n",
       "      <td>66300.000000</td>\n",
       "    </tr>\n",
       "  </tbody>\n",
       "</table>\n",
       "</div>"
      ],
      "text/plain": [
       "               High           Low          Open         Close        Volume  \\\n",
       "count    708.000000    708.000000    708.000000    708.000000  7.080000e+02   \n",
       "mean   49910.112994  48864.138418  49403.121469  49385.423729  1.470608e+07   \n",
       "std     5729.245576   5609.264434   5686.644046   5666.111521  8.303756e+06   \n",
       "min    37600.000000  36850.000000  37450.000000  37450.000000  0.000000e+00   \n",
       "25%    45800.000000  44850.000000  45200.000000  45350.000000  9.230368e+06   \n",
       "50%    48990.000000  47650.000000  48250.000000  48400.000000  1.263644e+07   \n",
       "75%    53200.000000  52000.000000  52650.000000  52700.000000  1.777495e+07   \n",
       "max    67000.000000  65600.000000  67000.000000  66300.000000  6.468130e+07   \n",
       "\n",
       "          Adj Close  \n",
       "count    708.000000  \n",
       "mean   47663.158385  \n",
       "std     7696.617391  \n",
       "min    27774.033203  \n",
       "25%    43950.000000  \n",
       "50%    46900.000000  \n",
       "75%    52325.000000  \n",
       "max    66300.000000  "
      ]
     },
     "execution_count": 168,
     "metadata": {},
     "output_type": "execute_result"
    }
   ],
   "source": [
    "df.describe()"
   ]
  },
  {
   "cell_type": "code",
   "execution_count": 169,
   "metadata": {},
   "outputs": [
    {
     "data": {
      "text/html": [
       "<div>\n",
       "<style scoped>\n",
       "    .dataframe tbody tr th:only-of-type {\n",
       "        vertical-align: middle;\n",
       "    }\n",
       "\n",
       "    .dataframe tbody tr th {\n",
       "        vertical-align: top;\n",
       "    }\n",
       "\n",
       "    .dataframe thead th {\n",
       "        text-align: right;\n",
       "    }\n",
       "</style>\n",
       "<table border=\"1\" class=\"dataframe\">\n",
       "  <thead>\n",
       "    <tr style=\"text-align: right;\">\n",
       "      <th></th>\n",
       "      <th>High</th>\n",
       "      <th>Low</th>\n",
       "      <th>Open</th>\n",
       "      <th>Close</th>\n",
       "      <th>Volume</th>\n",
       "      <th>Adj Close</th>\n",
       "    </tr>\n",
       "    <tr>\n",
       "      <th>Date</th>\n",
       "      <th></th>\n",
       "      <th></th>\n",
       "      <th></th>\n",
       "      <th></th>\n",
       "      <th></th>\n",
       "      <th></th>\n",
       "    </tr>\n",
       "  </thead>\n",
       "  <tbody>\n",
       "    <tr>\n",
       "      <th>2020-11-12</th>\n",
       "      <td>61400.0</td>\n",
       "      <td>60700.0</td>\n",
       "      <td>61000.0</td>\n",
       "      <td>61000.0</td>\n",
       "      <td>19800573.0</td>\n",
       "      <td>61000.0</td>\n",
       "    </tr>\n",
       "    <tr>\n",
       "      <th>2020-11-13</th>\n",
       "      <td>63200.0</td>\n",
       "      <td>61000.0</td>\n",
       "      <td>61300.0</td>\n",
       "      <td>63200.0</td>\n",
       "      <td>31508829.0</td>\n",
       "      <td>63200.0</td>\n",
       "    </tr>\n",
       "    <tr>\n",
       "      <th>2020-11-16</th>\n",
       "      <td>66700.0</td>\n",
       "      <td>63900.0</td>\n",
       "      <td>64000.0</td>\n",
       "      <td>66300.0</td>\n",
       "      <td>36354334.0</td>\n",
       "      <td>66300.0</td>\n",
       "    </tr>\n",
       "    <tr>\n",
       "      <th>2020-11-17</th>\n",
       "      <td>67000.0</td>\n",
       "      <td>65600.0</td>\n",
       "      <td>67000.0</td>\n",
       "      <td>65700.0</td>\n",
       "      <td>30204089.0</td>\n",
       "      <td>65700.0</td>\n",
       "    </tr>\n",
       "    <tr>\n",
       "      <th>2020-11-18</th>\n",
       "      <td>66200.0</td>\n",
       "      <td>64700.0</td>\n",
       "      <td>65700.0</td>\n",
       "      <td>64800.0</td>\n",
       "      <td>22963790.0</td>\n",
       "      <td>64800.0</td>\n",
       "    </tr>\n",
       "    <tr>\n",
       "      <th>2020-11-19</th>\n",
       "      <td>64800.0</td>\n",
       "      <td>63900.0</td>\n",
       "      <td>64100.0</td>\n",
       "      <td>64600.0</td>\n",
       "      <td>16590290.0</td>\n",
       "      <td>64600.0</td>\n",
       "    </tr>\n",
       "    <tr>\n",
       "      <th>2020-11-20</th>\n",
       "      <td>65200.0</td>\n",
       "      <td>63900.0</td>\n",
       "      <td>63900.0</td>\n",
       "      <td>64700.0</td>\n",
       "      <td>15068682.0</td>\n",
       "      <td>64700.0</td>\n",
       "    </tr>\n",
       "  </tbody>\n",
       "</table>\n",
       "</div>"
      ],
      "text/plain": [
       "               High      Low     Open    Close      Volume  Adj Close\n",
       "Date                                                                 \n",
       "2020-11-12  61400.0  60700.0  61000.0  61000.0  19800573.0    61000.0\n",
       "2020-11-13  63200.0  61000.0  61300.0  63200.0  31508829.0    63200.0\n",
       "2020-11-16  66700.0  63900.0  64000.0  66300.0  36354334.0    66300.0\n",
       "2020-11-17  67000.0  65600.0  67000.0  65700.0  30204089.0    65700.0\n",
       "2020-11-18  66200.0  64700.0  65700.0  64800.0  22963790.0    64800.0\n",
       "2020-11-19  64800.0  63900.0  64100.0  64600.0  16590290.0    64600.0\n",
       "2020-11-20  65200.0  63900.0  63900.0  64700.0  15068682.0    64700.0"
      ]
     },
     "execution_count": 169,
     "metadata": {},
     "output_type": "execute_result"
    }
   ],
   "source": [
    "df.tail(n=7)"
   ]
  },
  {
   "cell_type": "markdown",
   "metadata": {},
   "source": [
    "## 3. 전처리"
   ]
  },
  {
   "cell_type": "code",
   "execution_count": 170,
   "metadata": {},
   "outputs": [
    {
     "name": "stdout",
     "output_type": "stream",
     "text": [
      "496\n",
      "Open     59500.0\n",
      "High     59600.0\n",
      "Low      58900.0\n",
      "Close    59000.0\n",
      "Name: 2020-01-15 00:00:00, dtype: float64\n"
     ]
    }
   ],
   "source": [
    "df = df[['Open', 'High', 'Low', 'Close']]\n",
    "\n",
    "data = df.to_numpy()\n",
    "split = len(data) - int(len(data)*0.3)\n",
    "print(split)\n",
    "print(df.iloc[split])\n",
    "train = data[:split]\n",
    "test = data[split:]"
   ]
  },
  {
   "cell_type": "code",
   "execution_count": 171,
   "metadata": {},
   "outputs": [
    {
     "data": {
      "text/plain": [
       "array([63900., 65200., 63900., 64700.])"
      ]
     },
     "execution_count": 171,
     "metadata": {},
     "output_type": "execute_result"
    }
   ],
   "source": [
    "test[-1]"
   ]
  },
  {
   "cell_type": "code",
   "execution_count": 172,
   "metadata": {},
   "outputs": [
    {
     "data": {
      "text/plain": [
       "[<matplotlib.lines.Line2D at 0x7fd602f91e50>]"
      ]
     },
     "execution_count": 172,
     "metadata": {},
     "output_type": "execute_result"
    },
    {
     "data": {
      "image/png": "[encoded data removed]",
      "text/plain": [
       "<Figure size 432x288 with 1 Axes>"
      ]
     },
     "metadata": {
      "needs_background": "light"
     },
     "output_type": "display_data"
    }
   ],
   "source": [
    "import matplotlib.pyplot as plt\n",
    "# 조정종가 기준으로 값 확인\n",
    "plt.plot(train[:,-1])"
   ]
  },
  {
   "cell_type": "code",
   "execution_count": 173,
   "metadata": {},
   "outputs": [
    {
     "data": {
      "text/plain": [
       "[<matplotlib.lines.Line2D at 0x7fd604957f50>]"
      ]
     },
     "execution_count": 173,
     "metadata": {},
     "output_type": "execute_result"
    },
    {
     "data": {
      "image/png": "[encoded data removed]",
      "text/plain": [
       "<Figure size 432x288 with 1 Axes>"
      ]
     },
     "metadata": {
      "needs_background": "light"
     },
     "output_type": "display_data"
    }
   ],
   "source": [
    "plt.plot(test[:,-1])"
   ]
  },
  {
   "cell_type": "code",
   "execution_count": 174,
   "metadata": {
    "scrolled": true
   },
   "outputs": [
    {
     "name": "stdout",
     "output_type": "stream",
     "text": [
      "(491, 5, 4)\n",
      "(491, 1)\n"
     ]
    }
   ],
   "source": [
    "\n",
    "#데이터를 스케일링 해서 학습 효과 향상\n",
    "transformer = MinMaxScaler()\n",
    "train = transformer.fit_transform(train)\n",
    "test = transformer.transform(test)\n",
    "\n",
    "sequence_length = 5\n",
    "window_length = sequence_length + 1\n",
    "\n",
    "x_train = []\n",
    "y_train = []\n",
    "for i in range(0, len(train) - window_length + 1):\n",
    "    window = train[i:i + window_length, :]\n",
    "    x_train.append(window[:-1, :])\n",
    "    y_train.append(window[-1, [-1]])\n",
    "x_train = np.array(x_train)\n",
    "y_train = np.array(y_train)\n",
    "\n",
    "x_test = []\n",
    "y_test = []\n",
    "for i in range(0, len(test) - window_length + 1):\n",
    "    window = test[i:i + window_length, :]\n",
    "    x_test.append(window[:-1, :])\n",
    "    y_test.append(window[-1, [-1]])\n",
    "x_test = np.array(x_test)\n",
    "y_test = np.array(y_test)\n",
    "\n",
    "\n",
    "print(x_train.shape)\n",
    "print(y_train.shape)\n"
   ]
  },
  {
   "cell_type": "code",
   "execution_count": 175,
   "metadata": {},
   "outputs": [
    {
     "data": {
      "text/html": [
       "<div>\n",
       "<style scoped>\n",
       "    .dataframe tbody tr th:only-of-type {\n",
       "        vertical-align: middle;\n",
       "    }\n",
       "\n",
       "    .dataframe tbody tr th {\n",
       "        vertical-align: top;\n",
       "    }\n",
       "\n",
       "    .dataframe thead th {\n",
       "        text-align: right;\n",
       "    }\n",
       "</style>\n",
       "<table border=\"1\" class=\"dataframe\">\n",
       "  <thead>\n",
       "    <tr style=\"text-align: right;\">\n",
       "      <th></th>\n",
       "      <th>Open</th>\n",
       "      <th>High</th>\n",
       "      <th>Low</th>\n",
       "      <th>Close</th>\n",
       "    </tr>\n",
       "    <tr>\n",
       "      <th>Date</th>\n",
       "      <th></th>\n",
       "      <th></th>\n",
       "      <th></th>\n",
       "      <th></th>\n",
       "    </tr>\n",
       "  </thead>\n",
       "  <tbody>\n",
       "    <tr>\n",
       "      <th>2020-11-09</th>\n",
       "      <td>60700.0</td>\n",
       "      <td>60900.0</td>\n",
       "      <td>60100.0</td>\n",
       "      <td>60200.0</td>\n",
       "    </tr>\n",
       "    <tr>\n",
       "      <th>2020-11-10</th>\n",
       "      <td>60500.0</td>\n",
       "      <td>60500.0</td>\n",
       "      <td>59500.0</td>\n",
       "      <td>60200.0</td>\n",
       "    </tr>\n",
       "    <tr>\n",
       "      <th>2020-11-11</th>\n",
       "      <td>60700.0</td>\n",
       "      <td>61400.0</td>\n",
       "      <td>60400.0</td>\n",
       "      <td>61300.0</td>\n",
       "    </tr>\n",
       "    <tr>\n",
       "      <th>2020-11-12</th>\n",
       "      <td>61000.0</td>\n",
       "      <td>61400.0</td>\n",
       "      <td>60700.0</td>\n",
       "      <td>61000.0</td>\n",
       "    </tr>\n",
       "    <tr>\n",
       "      <th>2020-11-13</th>\n",
       "      <td>61300.0</td>\n",
       "      <td>63200.0</td>\n",
       "      <td>61000.0</td>\n",
       "      <td>63200.0</td>\n",
       "    </tr>\n",
       "    <tr>\n",
       "      <th>2020-11-16</th>\n",
       "      <td>64000.0</td>\n",
       "      <td>66700.0</td>\n",
       "      <td>63900.0</td>\n",
       "      <td>66300.0</td>\n",
       "    </tr>\n",
       "    <tr>\n",
       "      <th>2020-11-17</th>\n",
       "      <td>67000.0</td>\n",
       "      <td>67000.0</td>\n",
       "      <td>65600.0</td>\n",
       "      <td>65700.0</td>\n",
       "    </tr>\n",
       "    <tr>\n",
       "      <th>2020-11-18</th>\n",
       "      <td>65700.0</td>\n",
       "      <td>66200.0</td>\n",
       "      <td>64700.0</td>\n",
       "      <td>64800.0</td>\n",
       "    </tr>\n",
       "    <tr>\n",
       "      <th>2020-11-19</th>\n",
       "      <td>64100.0</td>\n",
       "      <td>64800.0</td>\n",
       "      <td>63900.0</td>\n",
       "      <td>64600.0</td>\n",
       "    </tr>\n",
       "    <tr>\n",
       "      <th>2020-11-20</th>\n",
       "      <td>63900.0</td>\n",
       "      <td>65200.0</td>\n",
       "      <td>63900.0</td>\n",
       "      <td>64700.0</td>\n",
       "    </tr>\n",
       "  </tbody>\n",
       "</table>\n",
       "</div>"
      ],
      "text/plain": [
       "               Open     High      Low    Close\n",
       "Date                                          \n",
       "2020-11-09  60700.0  60900.0  60100.0  60200.0\n",
       "2020-11-10  60500.0  60500.0  59500.0  60200.0\n",
       "2020-11-11  60700.0  61400.0  60400.0  61300.0\n",
       "2020-11-12  61000.0  61400.0  60700.0  61000.0\n",
       "2020-11-13  61300.0  63200.0  61000.0  63200.0\n",
       "2020-11-16  64000.0  66700.0  63900.0  66300.0\n",
       "2020-11-17  67000.0  67000.0  65600.0  65700.0\n",
       "2020-11-18  65700.0  66200.0  64700.0  64800.0\n",
       "2020-11-19  64100.0  64800.0  63900.0  64600.0\n",
       "2020-11-20  63900.0  65200.0  63900.0  64700.0"
      ]
     },
     "execution_count": 175,
     "metadata": {},
     "output_type": "execute_result"
    }
   ],
   "source": [
    "df.tail(n=10)"
   ]
  },
  {
   "cell_type": "code",
   "execution_count": 178,
   "metadata": {},
   "outputs": [
    {
     "data": {
      "text/plain": [
       "array([[1.03921569, 1.09401709, 1.04772234, 1.14190687],\n",
       "       [1.15686275, 1.24358974, 1.17353579, 1.27937916],\n",
       "       [1.2875817 , 1.25641026, 1.2472885 , 1.25277162],\n",
       "       [1.23093682, 1.22222222, 1.20824295, 1.21286031],\n",
       "       [1.16122004, 1.16239316, 1.17353579, 1.20399113]])"
      ]
     },
     "execution_count": 178,
     "metadata": {},
     "output_type": "execute_result"
    }
   ],
   "source": [
    "x_test[-1]"
   ]
  },
  {
   "cell_type": "code",
   "execution_count": 179,
   "metadata": {},
   "outputs": [
    {
     "data": {
      "text/plain": [
       "array([[64099.999918 , 64799.999944 , 63899.9999595, 64599.9999815]])"
      ]
     },
     "execution_count": 179,
     "metadata": {},
     "output_type": "execute_result"
    }
   ],
   "source": [
    "transformer.inverse_transform([[1.16122004, 1.16239316, 1.17353579, 1.20399113]])"
   ]
  },
  {
   "cell_type": "markdown",
   "metadata": {},
   "source": [
    "## 4. 모델 학습 및 검증"
   ]
  },
  {
   "cell_type": "code",
   "execution_count": 180,
   "metadata": {},
   "outputs": [
    {
     "name": "stdout",
     "output_type": "stream",
     "text": [
      "Model: \"model_9\"\n",
      "_________________________________________________________________\n",
      "Layer (type)                 Output Shape              Param #   \n",
      "=================================================================\n",
      "input_10 (InputLayer)        [(None, 5, 4)]            0         \n",
      "_________________________________________________________________\n",
      "lstm_9 (LSTM)                (None, 256)               267264    \n",
      "_________________________________________________________________\n",
      "dense_18 (Dense)             (None, 256)               65792     \n",
      "_________________________________________________________________\n",
      "dense_19 (Dense)             (None, 1)                 257       \n",
      "=================================================================\n",
      "Total params: 333,313\n",
      "Trainable params: 333,313\n",
      "Non-trainable params: 0\n",
      "_________________________________________________________________\n",
      "Train on 491 samples, validate on 207 samples\n",
      "Epoch 1/50\n",
      "WARNING:tensorflow:Entity <function Function._initialize_uninitialized_variables.<locals>.initialize_variables at 0x7fd602c60cb0> could not be transformed and will be executed as-is. Please report this to the AutoGraph team. When filing the bug, set the verbosity to 10 (on Linux, `export AUTOGRAPH_VERBOSITY=10`) and attach the full output. Cause: module 'gast' has no attribute 'Num'\n",
      "WARNING: Entity <function Function._initialize_uninitialized_variables.<locals>.initialize_variables at 0x7fd602c60cb0> could not be transformed and will be executed as-is. Please report this to the AutoGraph team. When filing the bug, set the verbosity to 10 (on Linux, `export AUTOGRAPH_VERBOSITY=10`) and attach the full output. Cause: module 'gast' has no attribute 'Num'\n",
      "491/491 [==============================] - 2s 4ms/sample - loss: 0.0708 - val_loss: 0.0102\n",
      "Epoch 2/50\n",
      "491/491 [==============================] - 0s 376us/sample - loss: 0.0074 - val_loss: 0.0208\n",
      "Epoch 3/50\n",
      "491/491 [==============================] - 0s 382us/sample - loss: 0.0041 - val_loss: 0.0091\n",
      "Epoch 4/50\n",
      "491/491 [==============================] - 0s 358us/sample - loss: 0.0026 - val_loss: 0.0049\n",
      "Epoch 5/50\n",
      "491/491 [==============================] - 0s 351us/sample - loss: 0.0021 - val_loss: 0.0042\n",
      "Epoch 6/50\n",
      "491/491 [==============================] - 0s 342us/sample - loss: 0.0018 - val_loss: 0.0050\n",
      "Epoch 7/50\n",
      "491/491 [==============================] - 0s 383us/sample - loss: 0.0022 - val_loss: 0.0039\n",
      "Epoch 8/50\n",
      "491/491 [==============================] - 0s 362us/sample - loss: 0.0016 - val_loss: 0.0051\n",
      "Epoch 9/50\n",
      "491/491 [==============================] - 0s 385us/sample - loss: 0.0017 - val_loss: 0.0037\n",
      "Epoch 10/50\n",
      "491/491 [==============================] - 0s 378us/sample - loss: 0.0016 - val_loss: 0.0122\n",
      "Epoch 11/50\n",
      "491/491 [==============================] - 0s 374us/sample - loss: 0.0021 - val_loss: 0.0049\n",
      "Epoch 12/50\n",
      "491/491 [==============================] - 0s 391us/sample - loss: 0.0019 - val_loss: 0.0037\n",
      "Epoch 13/50\n",
      "491/491 [==============================] - 0s 399us/sample - loss: 0.0016 - val_loss: 0.0045\n",
      "Epoch 14/50\n",
      "491/491 [==============================] - 0s 391us/sample - loss: 0.0018 - val_loss: 0.0074\n",
      "Epoch 15/50\n",
      "491/491 [==============================] - 0s 389us/sample - loss: 0.0018 - val_loss: 0.0032\n",
      "Epoch 16/50\n",
      "491/491 [==============================] - 0s 357us/sample - loss: 0.0014 - val_loss: 0.0063\n",
      "Epoch 17/50\n",
      "491/491 [==============================] - 0s 346us/sample - loss: 0.0014 - val_loss: 0.0030\n",
      "Epoch 18/50\n",
      "491/491 [==============================] - 0s 376us/sample - loss: 0.0016 - val_loss: 0.0045\n",
      "Epoch 19/50\n",
      "491/491 [==============================] - 0s 379us/sample - loss: 0.0022 - val_loss: 0.0034\n",
      "Epoch 20/50\n",
      "491/491 [==============================] - 0s 384us/sample - loss: 0.0016 - val_loss: 0.0034\n",
      "Epoch 21/50\n",
      "491/491 [==============================] - 0s 350us/sample - loss: 0.0014 - val_loss: 0.0029\n",
      "Epoch 22/50\n",
      "491/491 [==============================] - 0s 354us/sample - loss: 0.0013 - val_loss: 0.0045\n",
      "Epoch 23/50\n",
      "491/491 [==============================] - 0s 349us/sample - loss: 0.0015 - val_loss: 0.0029\n",
      "Epoch 24/50\n",
      "491/491 [==============================] - 0s 369us/sample - loss: 0.0015 - val_loss: 0.0029\n",
      "Epoch 25/50\n",
      "491/491 [==============================] - 0s 388us/sample - loss: 0.0012 - val_loss: 0.0028\n",
      "Epoch 26/50\n",
      "491/491 [==============================] - 0s 413us/sample - loss: 0.0013 - val_loss: 0.0037\n",
      "Epoch 27/50\n",
      "491/491 [==============================] - 0s 379us/sample - loss: 0.0013 - val_loss: 0.0029\n",
      "Epoch 28/50\n",
      "491/491 [==============================] - 0s 377us/sample - loss: 0.0015 - val_loss: 0.0026\n",
      "Epoch 29/50\n",
      "491/491 [==============================] - 0s 374us/sample - loss: 0.0013 - val_loss: 0.0044\n",
      "Epoch 30/50\n",
      "491/491 [==============================] - 0s 387us/sample - loss: 0.0013 - val_loss: 0.0031\n",
      "Epoch 31/50\n",
      "491/491 [==============================] - 0s 380us/sample - loss: 0.0013 - val_loss: 0.0032\n",
      "Epoch 32/50\n",
      "491/491 [==============================] - 0s 365us/sample - loss: 0.0015 - val_loss: 0.0040\n",
      "Epoch 33/50\n",
      "491/491 [==============================] - 0s 341us/sample - loss: 0.0013 - val_loss: 0.0040\n",
      "Epoch 34/50\n",
      "491/491 [==============================] - 0s 346us/sample - loss: 0.0014 - val_loss: 0.0026\n",
      "Epoch 35/50\n",
      "491/491 [==============================] - 0s 356us/sample - loss: 0.0014 - val_loss: 0.0048\n",
      "Epoch 36/50\n",
      "491/491 [==============================] - 0s 353us/sample - loss: 0.0015 - val_loss: 0.0027\n",
      "Epoch 37/50\n",
      "491/491 [==============================] - 0s 345us/sample - loss: 0.0013 - val_loss: 0.0035\n",
      "Epoch 38/50\n",
      "491/491 [==============================] - 0s 333us/sample - loss: 0.0013 - val_loss: 0.0027\n",
      "Epoch 39/50\n",
      "491/491 [==============================] - 0s 338us/sample - loss: 0.0013 - val_loss: 0.0026\n",
      "Epoch 40/50\n",
      "491/491 [==============================] - 0s 336us/sample - loss: 0.0012 - val_loss: 0.0026\n",
      "Epoch 41/50\n",
      "491/491 [==============================] - 0s 337us/sample - loss: 0.0014 - val_loss: 0.0030\n",
      "Epoch 42/50\n",
      "491/491 [==============================] - 0s 376us/sample - loss: 0.0015 - val_loss: 0.0042\n",
      "Epoch 43/50\n",
      "491/491 [==============================] - 0s 333us/sample - loss: 0.0014 - val_loss: 0.0045\n",
      "Epoch 44/50\n",
      "491/491 [==============================] - 0s 333us/sample - loss: 0.0014 - val_loss: 0.0032\n",
      "Epoch 45/50\n",
      "491/491 [==============================] - 0s 327us/sample - loss: 0.0012 - val_loss: 0.0026\n",
      "Epoch 46/50\n",
      "491/491 [==============================] - 0s 328us/sample - loss: 0.0012 - val_loss: 0.0027\n",
      "Epoch 47/50\n",
      "491/491 [==============================] - 0s 328us/sample - loss: 0.0014 - val_loss: 0.0025\n",
      "Epoch 48/50\n",
      "491/491 [==============================] - 0s 334us/sample - loss: 0.0012 - val_loss: 0.0028\n",
      "Epoch 49/50\n",
      "491/491 [==============================] - 0s 337us/sample - loss: 0.0012 - val_loss: 0.0037\n",
      "Epoch 50/50\n",
      "491/491 [==============================] - 0s 331us/sample - loss: 0.0013 - val_loss: 0.0042\n"
     ]
    },
    {
     "data": {
      "text/plain": [
       "<tensorflow.python.keras.callbacks.History at 0x7fd602f333d0>"
      ]
     },
     "execution_count": 180,
     "metadata": {},
     "output_type": "execute_result"
    }
   ],
   "source": [
    "##########모델 학습\n",
    "##########모델 검증\n",
    "\n",
    "input = Input(shape=(sequence_length, 4))\n",
    "net = LSTM(units=256)(input) \n",
    "net = Dense(units=256, activation='relu')(net)\n",
    "net = Dense(units=1)(net)\n",
    "model = Model(inputs=input, outputs=net)\n",
    "\n",
    "model.summary()\n",
    "\n",
    "model.compile(loss='mean_squared_error', optimizer=Adam(lr=0.01))\n",
    "model.fit(x_train, y_train, epochs=50, validation_data=(x_test, y_test)) \n"
   ]
  },
  {
   "cell_type": "markdown",
   "metadata": {},
   "source": [
    "## 5. 결과확인"
   ]
  },
  {
   "cell_type": "code",
   "execution_count": 181,
   "metadata": {},
   "outputs": [
    {
     "data": {
      "text/plain": [
       "(207, 5, 4)"
      ]
     },
     "execution_count": 181,
     "metadata": {},
     "output_type": "execute_result"
    }
   ],
   "source": [
    "x_test.shape"
   ]
  },
  {
   "cell_type": "code",
   "execution_count": 182,
   "metadata": {},
   "outputs": [
    {
     "data": {
      "image/png": "[encoded data removed]",
      "text/plain": [
       "<Figure size 432x288 with 1 Axes>"
      ]
     },
     "metadata": {
      "needs_background": "light"
     },
     "output_type": "display_data"
    }
   ],
   "source": [
    "##########모델 예측\n",
    "\n",
    "y_test_inverse = []\n",
    "for y in y_test:\n",
    "    inverse = transformer.inverse_transform([[0, 0, 0, y[0]]])\n",
    "    y_inverse = inverse.flatten()[-1]\n",
    "    y_test_inverse.append(y_inverse)\n",
    "\n",
    "y_predict = model.predict(x_test)\n",
    "y_predict_inverse = []\n",
    "for y in y_predict:\n",
    "    inverse = transformer.inverse_transform([[0, 0, 0, y[0]]])\n",
    "    y_inverse = inverse.flatten()[-1]\n",
    "    y_predict_inverse.append(y_inverse)\n",
    "\n",
    "import matplotlib.pyplot as plt\n",
    "plt.plot(y_test_inverse, c=\"r\", label=\"true\")\n",
    "plt.plot(y_predict_inverse, c=\"b\", label=\"pred\")\n",
    "plt.xlabel('Time Period')\n",
    "plt.ylabel('Close')\n",
    "plt.legend()\n",
    "plt.show()\n"
   ]
  },
  {
   "cell_type": "markdown",
   "metadata": {},
   "source": [
    "## 7. 다음 주의 주가는 과연!!"
   ]
  },
  {
   "cell_type": "code",
   "execution_count": 183,
   "metadata": {},
   "outputs": [
    {
     "data": {
      "text/html": [
       "<div>\n",
       "<style scoped>\n",
       "    .dataframe tbody tr th:only-of-type {\n",
       "        vertical-align: middle;\n",
       "    }\n",
       "\n",
       "    .dataframe tbody tr th {\n",
       "        vertical-align: top;\n",
       "    }\n",
       "\n",
       "    .dataframe thead th {\n",
       "        text-align: right;\n",
       "    }\n",
       "</style>\n",
       "<table border=\"1\" class=\"dataframe\">\n",
       "  <thead>\n",
       "    <tr style=\"text-align: right;\">\n",
       "      <th></th>\n",
       "      <th>High</th>\n",
       "      <th>Low</th>\n",
       "      <th>Open</th>\n",
       "      <th>Close</th>\n",
       "      <th>Volume</th>\n",
       "      <th>Adj Close</th>\n",
       "    </tr>\n",
       "    <tr>\n",
       "      <th>Date</th>\n",
       "      <th></th>\n",
       "      <th></th>\n",
       "      <th></th>\n",
       "      <th></th>\n",
       "      <th></th>\n",
       "      <th></th>\n",
       "    </tr>\n",
       "  </thead>\n",
       "  <tbody>\n",
       "    <tr>\n",
       "      <th>2020-11-19</th>\n",
       "      <td>64800</td>\n",
       "      <td>63900</td>\n",
       "      <td>64100</td>\n",
       "      <td>64600</td>\n",
       "      <td>16590290</td>\n",
       "      <td>64600</td>\n",
       "    </tr>\n",
       "    <tr>\n",
       "      <th>2020-11-20</th>\n",
       "      <td>65200</td>\n",
       "      <td>63900</td>\n",
       "      <td>63900</td>\n",
       "      <td>64700</td>\n",
       "      <td>15068682</td>\n",
       "      <td>64700</td>\n",
       "    </tr>\n",
       "    <tr>\n",
       "      <th>2020-11-23</th>\n",
       "      <td>67800</td>\n",
       "      <td>64700</td>\n",
       "      <td>64800</td>\n",
       "      <td>67500</td>\n",
       "      <td>27134398</td>\n",
       "      <td>67500</td>\n",
       "    </tr>\n",
       "    <tr>\n",
       "      <th>2020-11-24</th>\n",
       "      <td>69500</td>\n",
       "      <td>67000</td>\n",
       "      <td>67900</td>\n",
       "      <td>67700</td>\n",
       "      <td>32158235</td>\n",
       "      <td>67700</td>\n",
       "    </tr>\n",
       "    <tr>\n",
       "      <th>2020-11-25</th>\n",
       "      <td>68300</td>\n",
       "      <td>66500</td>\n",
       "      <td>67900</td>\n",
       "      <td>66600</td>\n",
       "      <td>29736832</td>\n",
       "      <td>66600</td>\n",
       "    </tr>\n",
       "  </tbody>\n",
       "</table>\n",
       "</div>"
      ],
      "text/plain": [
       "             High    Low   Open  Close    Volume  Adj Close\n",
       "Date                                                       \n",
       "2020-11-19  64800  63900  64100  64600  16590290      64600\n",
       "2020-11-20  65200  63900  63900  64700  15068682      64700\n",
       "2020-11-23  67800  64700  64800  67500  27134398      67500\n",
       "2020-11-24  69500  67000  67900  67700  32158235      67700\n",
       "2020-11-25  68300  66500  67900  66600  29736832      66600"
      ]
     },
     "execution_count": 183,
     "metadata": {},
     "output_type": "execute_result"
    }
   ],
   "source": [
    "df = web.DataReader(\"005930.KS\", \"yahoo\", \"2020-11-19\", \"2020-11-25\")\n",
    "df"
   ]
  },
  {
   "cell_type": "code",
   "execution_count": 184,
   "metadata": {},
   "outputs": [
    {
     "name": "stdout",
     "output_type": "stream",
     "text": [
      "[[[1.16122004 1.16239316 1.17353579 1.20399113]\n",
      "  [1.15250545 1.17948718 1.17353579 1.20842572]\n",
      "  [1.19172113 1.29059829 1.20824295 1.33259424]\n",
      "  [1.32679739 1.36324786 1.30802603 1.34146341]\n",
      "  [1.32679739 1.31196581 1.28633406 1.29268293]]]\n",
      "[[1.2647976]]\n",
      "[[37450.         37600.         36850.         65971.18516564]]\n",
      "예상가격: 65971.18516564369\n"
     ]
    }
   ],
   "source": [
    "df = df[['Open', 'High', 'Low', 'Close']]\n",
    "\n",
    "\n",
    "x_test = df.to_numpy()\n",
    "\n",
    "x_test = transformer.transform(x_test)\n",
    "x_test = np.expand_dims(x_test, 0)\n",
    "print(x_test)\n",
    "\n",
    "y_predict = model.predict(x_test)\n",
    "print(y_predict)\n",
    "# print(y_predict.flatten()[0])\n",
    "\n",
    "inverse = transformer.inverse_transform([[0, 0, 0, y_predict.flatten()[0]]])\n",
    "print(inverse)\n",
    "print(\"예상가격:\",inverse.flatten()[-1])"
   ]
  },
  {
   "cell_type": "code",
   "execution_count": 185,
   "metadata": {},
   "outputs": [],
   "source": [
    "#Q 여러분들이 관심 갖고 계신 주식으로 한번 해볼까요?"
   ]
  }
 ],
 "metadata": {
  "kernelspec": {
   "display_name": "Python 3",
   "language": "python",
   "name": "python3"
  },
  "language_info": {
   "codemirror_mode": {
    "name": "ipython",
    "version": 3
   },
   "file_extension": ".py",
   "mimetype": "text/x-python",
   "name": "python",
   "nbconvert_exporter": "python",
   "pygments_lexer": "ipython3",
   "version": "3.7.6"
  }
 },
 "nbformat": 4,
 "nbformat_minor": 4
}
