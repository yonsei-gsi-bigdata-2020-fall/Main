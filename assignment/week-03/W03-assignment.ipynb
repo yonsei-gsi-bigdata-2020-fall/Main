{
 "cells": [
  {
   "cell_type": "markdown",
   "metadata": {},
   "source": [
    "# 연스타그램\n",
    "이번에 학교 프로젝트로 '연스타그램'을 만들었습니다. 하지만 팀원이 개발을 하다가 도망을가서😢 일부 기능이 누락되었습니다. <br>\n",
    "먼저 현재까지 완성된 코드를 자세히 살펴보고, 코드의 비슷한 패턴을 유지한면서 아래에서 요구하는 기능들을 완성해주세요."
   ]
  },
  {
   "cell_type": "markdown",
   "metadata": {},
   "source": [
    "## 현재 시간을 구하는 함수"
   ]
  },
  {
   "cell_type": "code",
   "execution_count": 1,
   "metadata": {},
   "outputs": [],
   "source": [
    "import datetime\n",
    "def get_now():\n",
    "    utcnow= datetime.datetime.utcnow()\n",
    "    time_gap= datetime.timedelta(hours=9)\n",
    "    kor_time= utcnow+ time_gap\n",
    "    now = kor_time.strftime(\"%Y-%m-%d %H:%M:%S\")\n",
    "    return now\n"
   ]
  },
  {
   "cell_type": "markdown",
   "metadata": {},
   "source": [
    "## 연스타그램의 클래스 (앱, 유저, 포스트, 좋아요, 댓글)"
   ]
  },
  {
   "cell_type": "code",
   "execution_count": 2,
   "metadata": {},
   "outputs": [],
   "source": [
    "#앱 클래스\n",
    "class App:\n",
    "    app_name = \"연스타그램\"\n",
    "    #앱에 가입된 유저들\n",
    "    users = {}\n",
    "    \n",
    "    #가입 함수, 유저 이름을 매개변수로 받음\n",
    "    def sign_up(user_name):\n",
    "        #유저 인스턴스 생성\n",
    "        user = User(user_name)\n",
    "        print(\"{}님께서 가입하셨습니다. ({})\".format(user_name,user.created_time))\n",
    "        #앱의 유저 dict에 유저 id를 키로 user 인스턴스를 등록\n",
    "        App.users[user.user_id] = user\n",
    "    \n",
    "    #전체 회원을 보여주는 함수\n",
    "    def show_users():\n",
    "        for user_id, user in App.users.items():\n",
    "            print(user)\n",
    "\n",
    "#회원 클래스\n",
    "class User:\n",
    "    user_id = 0\n",
    "    def __init__(self, user_name):\n",
    "        self.user_name = user_name\n",
    "        self.user_id = User.user_id\n",
    "        self.created_time = get_now()\n",
    "        User.user_id += 1\n",
    "        \n",
    "        self.posts = {}\n",
    "        \n",
    "        \n",
    "    #포스팅 하는 함수\n",
    "    def write_post(self, text=\"\"):\n",
    "        #포스트 인스턴스 생성\n",
    "        post = Post(self, text)\n",
    "        #유저의 포스트 dict에 포스트 id를 키로 post인스턴스를 등록\n",
    "        self.posts[post.post_id] = post\n",
    "        print(\"'{}'님께서 포스팅했습니다: {} ({})\".format(user.user_name, text, post.created_time))\n",
    "        return post\n",
    "    \n",
    "    def show_posts(self):\n",
    "        #TODO 1번문제\n",
    "        pass\n",
    "    \n",
    "    def __str__(self):\n",
    "        return \"아이디:{}, 이름:{}, 가입일:{}\".format(self.user_id, self.user_name, self.created_time)\n",
    "    \n",
    "#포스팅 클래스\n",
    "class Post:\n",
    "    post_id = 0\n",
    "    def __init__(self, user, text):\n",
    "        self.text = text\n",
    "        self.user = user\n",
    "        self.created_time = get_now()\n",
    "        \n",
    "        self.like_cnt = 0\n",
    "        self.likes = {}\n",
    "        \n",
    "        self.comment_cnt = 0\n",
    "        self.comments = {}\n",
    "        \n",
    "        self.post_id = Post.post_id\n",
    "        Post.post_id+=1\n",
    "        \n",
    "        \n",
    "    def __str__(self):\n",
    "        return \"포스트 아이디:{}, 작성자:{}, 좋아요:{}, 내용: {}, 작성일: {}\"\\\n",
    "                .format(self.post_id, self.user.user_name, self.like_cnt, self.text, self.created_time)\n",
    "    \n",
    "    #포스팅에 좋아요 하는 함수\n",
    "    def like_post(self, user):\n",
    "        #좋아요는 중복이 안되니, 이미 좋아요가 있다면 PASS\n",
    "        if user.user_id in self.likes:\n",
    "            print(\"이미 좋아요를 누르셨습니다\")\n",
    "            return self.likes[user.user_id]\n",
    "        \n",
    "        #포스팅에 좋아요 숫자 증가\n",
    "        self.like_cnt +=1\n",
    "        #좋아요 인스턴스 생성\n",
    "        like = Like(user, self)\n",
    "        #포스팅에 좋아요 인스턴스를 유저 아이디를 키값으로 dict에 저장\n",
    "        self.likes[user.user_id] = like\n",
    "        \n",
    "        # 좋아요한 사용자에 따라 다르게 출력\n",
    "        if self.like_cnt > 1:\n",
    "            print(\"'{}'님 외 {}명이 포스트를 좋아합니다 ({})\".format(user.user_name, self.like_cnt-1, like.created_time))\n",
    "        else:\n",
    "            print(\"'{}'님이 '{}'님의 포스트를 좋아합니다 ({})\".format(user.user_name, self.user.user_name, like.created_time))\n",
    "            \n",
    "        \n",
    "        return like\n",
    "    def show_likes(self):\n",
    "        #TODO 3번문제\n",
    "        pass\n",
    "    \n",
    "    def write_comment(self, user, text):\n",
    "        #TODO 5번문제\n",
    "        pass\n",
    "    \n",
    "    def show_comments(self):\n",
    "        #TODO 6번문제\n",
    "        pass\n",
    "    \n",
    "# 좋아요 클래스\n",
    "class Like:\n",
    "    like_id = 0\n",
    "    def __init__(self, user, post):\n",
    "        self.user = user\n",
    "        self.post = post\n",
    "        self.created_time = get_now()\n",
    "        Like.like_id += 1\n",
    "        \n",
    "    def __str__(self):\n",
    "        #TODO 2번문제\n",
    "        return \"\"\n",
    "# 댓글 클래스\n",
    "class Comment:\n",
    "    #TODO 4번문제\n",
    "    pass"
   ]
  },
  {
   "cell_type": "markdown",
   "metadata": {},
   "source": [
    "### 회원가입 기능\n",
    "6명의 유저를 이름을 입력하여 가입"
   ]
  },
  {
   "cell_type": "code",
   "execution_count": 3,
   "metadata": {
    "scrolled": true
   },
   "outputs": [
    {
     "name": "stdout",
     "output_type": "stream",
     "text": [
      "손흥민님께서 가입하셨습니다. (2020-09-18 00:45:31)\n",
      "김연아님께서 가입하셨습니다. (2020-09-18 00:45:31)\n",
      "박찬호님께서 가입하셨습니다. (2020-09-18 00:45:31)\n",
      "김연경님께서 가입하셨습니다. (2020-09-18 00:45:31)\n",
      "박세리님께서 가입하셨습니다. (2020-09-18 00:45:31)\n",
      "류현진님께서 가입하셨습니다. (2020-09-18 00:45:31)\n"
     ]
    }
   ],
   "source": [
    "App.sign_up(\"손흥민\")\n",
    "App.sign_up(\"김연아\")\n",
    "App.sign_up(\"박찬호\")\n",
    "App.sign_up(\"김연경\")\n",
    "App.sign_up(\"박세리\")\n",
    "App.sign_up(\"류현진\")"
   ]
  },
  {
   "cell_type": "markdown",
   "metadata": {},
   "source": [
    "### 가입된 회원 출력\n",
    "이전에 가입된 유저들을 출력"
   ]
  },
  {
   "cell_type": "code",
   "execution_count": 4,
   "metadata": {
    "scrolled": true
   },
   "outputs": [
    {
     "name": "stdout",
     "output_type": "stream",
     "text": [
      "아이디:0, 이름:손흥민, 가입일:2020-09-18 00:45:31\n",
      "아이디:1, 이름:김연아, 가입일:2020-09-18 00:45:31\n",
      "아이디:2, 이름:박찬호, 가입일:2020-09-18 00:45:31\n",
      "아이디:3, 이름:김연경, 가입일:2020-09-18 00:45:31\n",
      "아이디:4, 이름:박세리, 가입일:2020-09-18 00:45:31\n",
      "아이디:5, 이름:류현진, 가입일:2020-09-18 00:45:31\n"
     ]
    }
   ],
   "source": [
    "App.show_users()"
   ]
  },
  {
   "cell_type": "markdown",
   "metadata": {},
   "source": [
    "### 유저별 포스팅 기능"
   ]
  },
  {
   "cell_type": "code",
   "execution_count": 5,
   "metadata": {},
   "outputs": [
    {
     "name": "stdout",
     "output_type": "stream",
     "text": [
      "'손흥민'님께서 포스팅했습니다: 안녕하세요! 연스타그램 너무 좋네요! (2020-09-18 00:45:31)\n",
      "'손흥민'님께서 포스팅했습니다: 두번째 포스팅입니다 ㅎㅎㅎ (2020-09-18 00:45:31)\n",
      "'김연아'님께서 포스팅했습니다: 안녕하세요 처음뵙겠습니다! (2020-09-18 00:45:31)\n",
      "'박찬호'님께서 포스팅했습니다: Hello! This app is awesome! (2020-09-18 00:45:31)\n",
      "'김연경'님께서 포스팅했습니다: 수익모델이 뭔가요? (2020-09-18 00:45:31)\n"
     ]
    },
    {
     "data": {
      "text/plain": [
       "<__main__.Post at 0x7fb32cead940>"
      ]
     },
     "execution_count": 5,
     "metadata": {},
     "output_type": "execute_result"
    }
   ],
   "source": [
    "user = App.users[0]\n",
    "user.write_post(\"안녕하세요! 연스타그램 너무 좋네요!\")\n",
    "user.write_post(\"두번째 포스팅입니다 ㅎㅎㅎ\")\n",
    "user = App.users[1]\n",
    "user.write_post(\"안녕하세요 처음뵙겠습니다!\")\n",
    "user = App.users[2]\n",
    "user.write_post(\"Hello! This app is awesome!\")\n",
    "user = App.users[3]\n",
    "user.write_post(\"수익모델이 뭔가요?\")"
   ]
  },
  {
   "cell_type": "markdown",
   "metadata": {},
   "source": [
    "### 포스팅별 좋아요 기능"
   ]
  },
  {
   "cell_type": "code",
   "execution_count": 6,
   "metadata": {
    "scrolled": true
   },
   "outputs": [
    {
     "name": "stdout",
     "output_type": "stream",
     "text": [
      "'박세리'님이 '손흥민'님의 포스트를 좋아합니다 (2020-09-18 00:45:31)\n",
      "'류현진'님 외 1명이 포스트를 좋아합니다 (2020-09-18 00:45:31)\n"
     ]
    },
    {
     "data": {
      "text/plain": [
       "<__main__.Like at 0x7fb32cead1d0>"
      ]
     },
     "execution_count": 6,
     "metadata": {},
     "output_type": "execute_result"
    }
   ],
   "source": [
    "liked_user = App.users[0]\n",
    "post = liked_user.posts[0]\n",
    "\n",
    "liking_user = App.users[4]\n",
    "post.like_post(liking_user)\n",
    "\n",
    "liking_user = App.users[5]\n",
    "post.like_post(liking_user)\n"
   ]
  },
  {
   "cell_type": "markdown",
   "metadata": {},
   "source": [
    "# 과제시작"
   ]
  },
  {
   "cell_type": "markdown",
   "metadata": {},
   "source": [
    "---\n",
    "### 1. User 클래스의 show_posts 함수 완성하기 (0pt)\n",
    "#### 출력예시\n",
    "포스트 아이디:0, 작성자:손흥민, 좋아요:0, 내용: 안녕하세요! 연스타그램 너무 좋네요!, 작성일: 2020-09-17 23:22:17<br>\n",
    "포스트 아이디:1, 작성자:손흥민, 좋아요:0, 내용: 두번째 포스팅입니다 ㅎㅎㅎ, 작성일: 2020-09-17 23:22:17\n",
    "\n",
    "**hint**<br>\n",
    "App 클래스의 show_users 함수를 참고하세요"
   ]
  },
  {
   "cell_type": "code",
   "execution_count": 7,
   "metadata": {},
   "outputs": [],
   "source": [
    "user = App.users[0]\n",
    "user.show_posts()"
   ]
  },
  {
   "cell_type": "markdown",
   "metadata": {},
   "source": [
    "---\n",
    "### 2. like 인스턴스 출력시, 다음과 같이 표시되게 만들어주세요 (1pt)\n",
    "#### 출력예시\n",
    "- 좋아요 아이디:2, 좋아요한 포스트:0, 좋아요한 유저:박세리, 생성일:2020-09-17 23:22:19\n",
    "\n",
    "##### hint\n",
    "- Post 클래스의 \\__str__ 함수를 참고하세요"
   ]
  },
  {
   "cell_type": "code",
   "execution_count": 8,
   "metadata": {},
   "outputs": [
    {
     "name": "stdout",
     "output_type": "stream",
     "text": [
      "'김연경'님 외 2명이 포스트를 좋아합니다 (2020-09-18 00:45:31)\n",
      "\n"
     ]
    }
   ],
   "source": [
    "liked_user = App.users[0]\n",
    "liking_user = App.users[3]\n",
    "post = liked_user.posts[0]\n",
    "like = post.like_post(liking_user)\n",
    "print(like)"
   ]
  },
  {
   "cell_type": "markdown",
   "metadata": {},
   "source": [
    "---\n",
    "### 3. 특정 포스팅에 있는 좋아요를 모두 출력하는 함수를 만들어주세요 (2pt)\n",
    "#### 출력예시\n",
    "- 좋아요 아이디:1, 좋아요한 포스트:0, 좋아요한 유저:박세리, 생성일:2020-09-17 23:37:45\n",
    "- 좋아요 아이디:2, 좋아요한 포스트:0, 좋아요한 유저:류현진, 생성일:2020-09-17 23:37:45\n",
    "\n",
    "##### hint\n",
    "- App 클래스의 show_users 함수를 참고하세요\n",
    "- 작성하신 User 클래스의 show_posts 함수를 참고하세요"
   ]
  },
  {
   "cell_type": "code",
   "execution_count": 9,
   "metadata": {},
   "outputs": [],
   "source": [
    "post = liked_user.posts[0]\n",
    "post.show_likes()"
   ]
  },
  {
   "cell_type": "markdown",
   "metadata": {},
   "source": [
    "---\n",
    "### 4. Comment Class를 완성하세요 (7pt)\n",
    "\n",
    "#### 정의해야할 class attribute\n",
    "- comment_id\n",
    "\n",
    "#### 정의해야할 instance attribute\n",
    "- user\n",
    "- post\n",
    "- text\n",
    "- created_time\n",
    "\n",
    "#### 정의해야할 instance method\n",
    "- \\__init__\n",
    "- \\__str__\n",
    "\n",
    "##### hint\n",
    "- Like Class를 참고하세요"
   ]
  },
  {
   "cell_type": "markdown",
   "metadata": {},
   "source": [
    "---\n",
    "### 5. Post Class에 write_comment method를 작성하시오 (4pt)\n",
    "\n",
    "#### 출력예시\n",
    "- '김연경'님이 댓글을 입력했습니다: 저도요 ㅎㅎ (2020-09-18 00:22:28)\n",
    "- '박찬호'님이 댓글을 입력했습니다: me too (2020-09-18 00:22:28)\n",
    "\n",
    "##### hint\n",
    "- like_post method와 write_post method를 참고하세요"
   ]
  },
  {
   "cell_type": "code",
   "execution_count": 10,
   "metadata": {},
   "outputs": [],
   "source": [
    "commenting_user = App.users[3]\n",
    "post.write_comment(commenting_user, \"저도요 ㅎㅎ\")\n",
    "commenting_user = App.users[2]\n",
    "post.write_comment(commenting_user, \"me too\")"
   ]
  },
  {
   "cell_type": "markdown",
   "metadata": {},
   "source": [
    "---\n",
    "### 6. Post Class에 show_comments method를 작성하시오 (4pt)\n",
    "##### 출력예시\n",
    "- 댓글 아이디:0, 댓들단 포스트:0, 댓글단 유저:김연경, 생성일:2020-09-18 00:24:43\n",
    "- 댓글 아이디:1, 댓들단 포스트:0, 댓글단 유저:박찬호, 생성일:2020-09-18 00:24:43\n",
    "\n",
    "##### hint\n",
    "- App 클래스의 show_users 함수를 참고하세요\n",
    "- 작성하신 User 클래스의 show_posts 함수를 참고하세요\n",
    "- 작성하신 Post 클래스의 show_likes 함수를 참고하세요"
   ]
  },
  {
   "cell_type": "code",
   "execution_count": 11,
   "metadata": {},
   "outputs": [],
   "source": [
    "post.show_comments()"
   ]
  }
 ],
 "metadata": {
  "kernelspec": {
   "display_name": "Python 3",
   "language": "python",
   "name": "python3"
  },
  "language_info": {
   "codemirror_mode": {
    "name": "ipython",
    "version": 3
   },
   "file_extension": ".py",
   "mimetype": "text/x-python",
   "name": "python",
   "nbconvert_exporter": "python",
   "pygments_lexer": "ipython3",
   "version": "3.7.6"
  }
 },
 "nbformat": 4,
 "nbformat_minor": 4
}
