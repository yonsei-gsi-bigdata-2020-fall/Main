{
 "cells": [
  {
   "cell_type": "markdown",
   "metadata": {},
   "source": [
    "### 1. (1pt) 자유낙하 거리공식은 다음과 같이 표현될 수 있습니다. $h=\\frac{1}{2}gt^2$. 아래 Pyhon Code를 완성하여 h를 구하시오!"
   ]
  },
  {
   "cell_type": "code",
   "execution_count": 1,
   "metadata": {},
   "outputs": [
    {
     "name": "stdout",
     "output_type": "stream",
     "text": [
      "500.18818324999995\n"
     ]
    }
   ],
   "source": [
    "g=9.80665\n",
    "t=10.1\n",
    "\n",
    "#TODO\n",
    "h = (1/2)*g*(t**2)\n",
    "print(h)\n",
    "\n",
    "# 올바른 출력값\n",
    "# 500.18818324999995"
   ]
  },
  {
   "cell_type": "markdown",
   "metadata": {},
   "source": [
    "### 2. (1pt)  소수점 셋째자리에서 반올림 하시오. 예) 11.135 => 11.14"
   ]
  },
  {
   "cell_type": "code",
   "execution_count": 2,
   "metadata": {},
   "outputs": [
    {
     "name": "stdout",
     "output_type": "stream",
     "text": [
      "500.19\n"
     ]
    }
   ],
   "source": [
    "g=9.80665\n",
    "t=10.1\n",
    "\n",
    "#TODO\n",
    "h = (1/2)*g*(t**2)\n",
    "h = round(h,2)\n",
    "print(h)\n",
    "\n",
    "# 올바른 출력값\n",
    "# 500.19"
   ]
  },
  {
   "cell_type": "markdown",
   "metadata": {},
   "source": [
    "### 3. (3pt)  위의 문제에 이어서 이번에는 반대로 t를 구하시오\n",
    "**절대로 sqrt관련 함수를 import해서 사용하시면 안됩니다!**"
   ]
  },
  {
   "cell_type": "code",
   "execution_count": 3,
   "metadata": {},
   "outputs": [
    {
     "name": "stdout",
     "output_type": "stream",
     "text": [
      "3.778363002900991\n"
     ]
    }
   ],
   "source": [
    "\n",
    "g=9.80665\n",
    "h=70\n",
    "\n",
    "#TODO\n",
    "t = ((2*h)/g)**0.5\n",
    "print(t)"
   ]
  },
  {
   "cell_type": "markdown",
   "metadata": {},
   "source": [
    "### 4. (2pt)  코로나 사태로 인해, 한반에 최대 수강인원은 20명으로 제한되었습니다. 전교생이 643명인 경우 최소 몇개의 교실이 필요할까요?"
   ]
  },
  {
   "cell_type": "code",
   "execution_count": 10,
   "metadata": {},
   "outputs": [
    {
     "name": "stdout",
     "output_type": "stream",
     "text": [
      "32\n"
     ]
    }
   ],
   "source": [
    "num_of_students = 640\n",
    "classroom_limit = 20\n",
    "\n",
    "#TODO\n",
    "if num_of_students%classroom_limit == 0:\n",
    "    num_of_classroom = num_of_students//classroom_limit\n",
    "else:\n",
    "    num_of_classroom = num_of_students//classroom_limit + 1\n",
    "    \n",
    "\n",
    "print(num_of_classroom)"
   ]
  },
  {
   "cell_type": "markdown",
   "metadata": {},
   "source": [
    "### 5. (3pt) 어떠한 단어가 주어졌을때, 그 단어가 알파벳인지 아닌지 구별하는 코드를 작성하시오\n"
   ]
  },
  {
   "cell_type": "code",
   "execution_count": 56,
   "metadata": {},
   "outputs": [
    {
     "name": "stdout",
     "output_type": "stream",
     "text": [
      "65\n",
      "97\n",
      "90\n",
      "122\n",
      "Is H12 alphabet? : True\n"
     ]
    }
   ],
   "source": [
    "### 어떠한 단어가 주어졌을때, 그 단어가 알파벳인지 아닌지 구별하는 코드를 작성하시오\n",
    "is_alphabet = False\n",
    "\n",
    "# ASCII 코드로 변환하여 구별하는 방식\n",
    "word = \"H12\"\n",
    "\n",
    "print(ord(\"A\"))\n",
    "print(ord(\"a\"))\n",
    "print(ord(\"Z\"))\n",
    "print(ord(\"z\"))\n",
    "\n",
    "min_alpah = ord(\"A\")\n",
    "max_alpha = ord(\"z\")\n",
    "\n",
    "for char in word:\n",
    "    if ord(char) >= min_alpah and ord(char) <= max_alpha : \n",
    "        is_alphabet = True\n",
    "\n",
    "print(\"Is {} alphabet? : {}\".format(word, is_alphabet))"
   ]
  },
  {
   "cell_type": "markdown",
   "metadata": {},
   "source": [
    "### 6. (3pt) 정사각형의 높이 n이 주어졌을 때 for문을 활용하여, 다음과 같이 정사각형을 그리시오."
   ]
  },
  {
   "cell_type": "code",
   "execution_count": 28,
   "metadata": {},
   "outputs": [
    {
     "name": "stdout",
     "output_type": "stream",
     "text": [
      "**********\n",
      "**********\n",
      "**********\n",
      "**********\n",
      "**********\n",
      "**********\n",
      "**********\n",
      "**********\n",
      "**********\n",
      "**********\n"
     ]
    }
   ],
   "source": [
    "n=10\n",
    "square = \"\"\n",
    "#TODO\n",
    "#다음 셀의 결과값을 확인하여, 이곳에 for문을 활용하여 square의 값을 추가하세요\n",
    "for i in range(n):\n",
    "    square += \"*\"*n\n",
    "    if i < n-1:\n",
    "        square += \"\\n\"\n",
    "    \n",
    "print(square)"
   ]
  },
  {
   "cell_type": "code",
   "execution_count": 31,
   "metadata": {},
   "outputs": [
    {
     "name": "stdout",
     "output_type": "stream",
     "text": [
      "****\n",
      "****\n",
      "****\n",
      "****\n"
     ]
    }
   ],
   "source": [
    "n=4\n",
    "square = \"\"\n",
    "#TODO\n",
    "#다음 셀의 결과값을 확인하여, 이곳에 for문을 활용하여 square의 값을 추가하세요\n",
    "for i in range(n):\n",
    "    for j in range(n):\n",
    "        square+=\"*\"\n",
    "    if i < n-1:    \n",
    "        square+=\"\\n\"\n",
    "    \n",
    "print(square)"
   ]
  },
  {
   "cell_type": "code",
   "execution_count": null,
   "metadata": {},
   "outputs": [],
   "source": [
    "#아래 주석을 풀어 결과를 비교하세요\n",
    "#n이 3일때\n",
    "print(\"n=3\")\n",
    "square = \"***\\n***\\n***\"\n",
    "print(square)\n",
    "#n이 4일때\n",
    "print(\"n=4\")\n",
    "square = \"****\\n****\\n****\\n****\"\n",
    "print(square)"
   ]
  },
  {
   "cell_type": "markdown",
   "metadata": {},
   "source": [
    "### 7. (5pt) 삼각형 높이 n이 주어졌을 때 for문을 활용하여, 다음과 같이 삼각형을 그리시오."
   ]
  },
  {
   "cell_type": "code",
   "execution_count": 40,
   "metadata": {},
   "outputs": [
    {
     "name": "stdout",
     "output_type": "stream",
     "text": [
      "         *\n",
      "        ***\n",
      "       *****\n",
      "      *******\n",
      "     *********\n",
      "    ***********\n",
      "   *************\n",
      "  ***************\n",
      " *****************\n",
      "*******************\n"
     ]
    }
   ],
   "source": [
    "### for문을 활용하여, 다음과 같이 삼각형을 그리시오\n",
    "n=10\n",
    "triangle = \"\"\n",
    "#TODO\n",
    "#다음 셀의 결과값을 확인하여, 이곳에 for문을 활용하여 삼각형을 출력하세요\n",
    "for i in range(n):\n",
    "    triangle += \" \"*(n-i-1)\n",
    "    triangle += \"*\"*((2*i+1))\n",
    "    if i < n-1:    \n",
    "        triangle += \"\\n\"\n",
    "print(triangle)"
   ]
  },
  {
   "cell_type": "code",
   "execution_count": 32,
   "metadata": {},
   "outputs": [
    {
     "name": "stdout",
     "output_type": "stream",
     "text": [
      "n=3\n",
      "  *\n",
      " ***\n",
      "*****\n",
      "n=4\n",
      "   *\n",
      "  ***\n",
      " *****\n",
      "*******\n"
     ]
    }
   ],
   "source": [
    "#아래 주석을 풀어 결과를 비교하세요\n",
    "#n이 3일때\n",
    "print(\"n=3\")\n",
    "triangle = \"  *\\n ***\\n*****\"\n",
    "print(triangle)\n",
    "#n이 4일때\n",
    "print(\"n=4\")\n",
    "triangle = \"   *\\n  ***\\n *****\\n*******\"\n",
    "print(triangle)"
   ]
  },
  {
   "cell_type": "code",
   "execution_count": null,
   "metadata": {},
   "outputs": [],
   "source": []
  }
 ],
 "metadata": {
  "kernelspec": {
   "display_name": "Python 3",
   "language": "python",
   "name": "python3"
  },
  "language_info": {
   "codemirror_mode": {
    "name": "ipython",
    "version": 3
   },
   "file_extension": ".py",
   "mimetype": "text/x-python",
   "name": "python",
   "nbconvert_exporter": "python",
   "pygments_lexer": "ipython3",
   "version": "3.7.6"
  }
 },
 "nbformat": 4,
 "nbformat_minor": 4
}
